{
 "cells": [
  {
   "cell_type": "markdown",
   "metadata": {},
   "source": [
    "# 1. Import and Setup"
   ]
  },
  {
   "cell_type": "code",
   "execution_count": 258,
   "metadata": {},
   "outputs": [],
   "source": [
    "# import libraries\n",
    "import matplotlib.pyplot as plt\n",
    "import numpy as np\n",
    "import pandas as pd\n",
    "import random as rnd\n",
    "import re\n",
    "import seaborn as sns\n",
    "\n",
    "from scipy import stats\n",
    "from scipy.stats import trim_mean\n",
    "from scipy.stats import boxcox\n",
    "from sklearn.covariance import MinCovDet\n",
    "from statsmodels.robust.scale import mad\n",
    "\n",
    "%matplotlib inline\n",
    "\n",
    "pd.options.display.max_rows = None\n",
    "pd.options.display.max_columns = None\n",
    "\n",
    "from IPython.core.interactiveshell import InteractiveShell\n",
    "InteractiveShell.ast_node_interactivity = \"all\"\n",
    "\n",
    "cmap1 = \"Blues\""
   ]
  },
  {
   "cell_type": "code",
   "execution_count": 259,
   "metadata": {},
   "outputs": [],
   "source": [
    "# import data\n",
    "train_df = pd.read_csv('train.csv')\n",
    "test_df = pd.read_csv('test.csv')\n",
    "combine = [train_df, test_df]"
   ]
  },
  {
   "cell_type": "markdown",
   "metadata": {},
   "source": [
    "# 2. Exploratory Data Analysis\n",
    "\n",
    "## 2.1. Data Structure"
   ]
  },
  {
   "cell_type": "code",
   "execution_count": 260,
   "metadata": {},
   "outputs": [
    {
     "data": {
      "text/plain": [
       "(891, 12)"
      ]
     },
     "execution_count": 260,
     "metadata": {},
     "output_type": "execute_result"
    },
    {
     "data": {
      "text/plain": [
       "(418, 11)"
      ]
     },
     "execution_count": 260,
     "metadata": {},
     "output_type": "execute_result"
    }
   ],
   "source": [
    "# df shape\n",
    "for dataset in combine:\n",
    "    dataset.shape"
   ]
  },
  {
   "cell_type": "code",
   "execution_count": 261,
   "metadata": {
    "scrolled": false
   },
   "outputs": [
    {
     "data": {
      "text/html": [
       "<div>\n",
       "<style scoped>\n",
       "    .dataframe tbody tr th:only-of-type {\n",
       "        vertical-align: middle;\n",
       "    }\n",
       "\n",
       "    .dataframe tbody tr th {\n",
       "        vertical-align: top;\n",
       "    }\n",
       "\n",
       "    .dataframe thead th {\n",
       "        text-align: right;\n",
       "    }\n",
       "</style>\n",
       "<table border=\"1\" class=\"dataframe\">\n",
       "  <thead>\n",
       "    <tr style=\"text-align: right;\">\n",
       "      <th></th>\n",
       "      <th>PassengerId</th>\n",
       "      <th>Survived</th>\n",
       "      <th>Pclass</th>\n",
       "      <th>Name</th>\n",
       "      <th>Sex</th>\n",
       "      <th>Age</th>\n",
       "      <th>SibSp</th>\n",
       "      <th>Parch</th>\n",
       "      <th>Ticket</th>\n",
       "      <th>Fare</th>\n",
       "      <th>Cabin</th>\n",
       "      <th>Embarked</th>\n",
       "    </tr>\n",
       "  </thead>\n",
       "  <tbody>\n",
       "    <tr>\n",
       "      <th>332</th>\n",
       "      <td>333</td>\n",
       "      <td>0</td>\n",
       "      <td>1</td>\n",
       "      <td>Graham, Mr. George Edward</td>\n",
       "      <td>male</td>\n",
       "      <td>38.0</td>\n",
       "      <td>0</td>\n",
       "      <td>1</td>\n",
       "      <td>PC 17582</td>\n",
       "      <td>153.4625</td>\n",
       "      <td>C91</td>\n",
       "      <td>S</td>\n",
       "    </tr>\n",
       "    <tr>\n",
       "      <th>190</th>\n",
       "      <td>191</td>\n",
       "      <td>1</td>\n",
       "      <td>2</td>\n",
       "      <td>Pinsky, Mrs. (Rosa)</td>\n",
       "      <td>female</td>\n",
       "      <td>32.0</td>\n",
       "      <td>0</td>\n",
       "      <td>0</td>\n",
       "      <td>234604</td>\n",
       "      <td>13.0000</td>\n",
       "      <td>NaN</td>\n",
       "      <td>S</td>\n",
       "    </tr>\n",
       "    <tr>\n",
       "      <th>719</th>\n",
       "      <td>720</td>\n",
       "      <td>0</td>\n",
       "      <td>3</td>\n",
       "      <td>Johnson, Mr. Malkolm Joackim</td>\n",
       "      <td>male</td>\n",
       "      <td>33.0</td>\n",
       "      <td>0</td>\n",
       "      <td>0</td>\n",
       "      <td>347062</td>\n",
       "      <td>7.7750</td>\n",
       "      <td>NaN</td>\n",
       "      <td>S</td>\n",
       "    </tr>\n",
       "    <tr>\n",
       "      <th>147</th>\n",
       "      <td>148</td>\n",
       "      <td>0</td>\n",
       "      <td>3</td>\n",
       "      <td>Ford, Miss. Robina Maggie \"Ruby\"</td>\n",
       "      <td>female</td>\n",
       "      <td>9.0</td>\n",
       "      <td>2</td>\n",
       "      <td>2</td>\n",
       "      <td>W./C. 6608</td>\n",
       "      <td>34.3750</td>\n",
       "      <td>NaN</td>\n",
       "      <td>S</td>\n",
       "    </tr>\n",
       "    <tr>\n",
       "      <th>794</th>\n",
       "      <td>795</td>\n",
       "      <td>0</td>\n",
       "      <td>3</td>\n",
       "      <td>Dantcheff, Mr. Ristiu</td>\n",
       "      <td>male</td>\n",
       "      <td>25.0</td>\n",
       "      <td>0</td>\n",
       "      <td>0</td>\n",
       "      <td>349203</td>\n",
       "      <td>7.8958</td>\n",
       "      <td>NaN</td>\n",
       "      <td>S</td>\n",
       "    </tr>\n",
       "    <tr>\n",
       "      <th>614</th>\n",
       "      <td>615</td>\n",
       "      <td>0</td>\n",
       "      <td>3</td>\n",
       "      <td>Brocklebank, Mr. William Alfred</td>\n",
       "      <td>male</td>\n",
       "      <td>35.0</td>\n",
       "      <td>0</td>\n",
       "      <td>0</td>\n",
       "      <td>364512</td>\n",
       "      <td>8.0500</td>\n",
       "      <td>NaN</td>\n",
       "      <td>S</td>\n",
       "    </tr>\n",
       "    <tr>\n",
       "      <th>742</th>\n",
       "      <td>743</td>\n",
       "      <td>1</td>\n",
       "      <td>1</td>\n",
       "      <td>Ryerson, Miss. Susan Parker \"Suzette\"</td>\n",
       "      <td>female</td>\n",
       "      <td>21.0</td>\n",
       "      <td>2</td>\n",
       "      <td>2</td>\n",
       "      <td>PC 17608</td>\n",
       "      <td>262.3750</td>\n",
       "      <td>B57 B59 B63 B66</td>\n",
       "      <td>C</td>\n",
       "    </tr>\n",
       "    <tr>\n",
       "      <th>363</th>\n",
       "      <td>364</td>\n",
       "      <td>0</td>\n",
       "      <td>3</td>\n",
       "      <td>Asim, Mr. Adola</td>\n",
       "      <td>male</td>\n",
       "      <td>35.0</td>\n",
       "      <td>0</td>\n",
       "      <td>0</td>\n",
       "      <td>SOTON/O.Q. 3101310</td>\n",
       "      <td>7.0500</td>\n",
       "      <td>NaN</td>\n",
       "      <td>S</td>\n",
       "    </tr>\n",
       "  </tbody>\n",
       "</table>\n",
       "</div>"
      ],
      "text/plain": [
       "     PassengerId  Survived  Pclass                                   Name  \\\n",
       "332          333         0       1              Graham, Mr. George Edward   \n",
       "190          191         1       2                    Pinsky, Mrs. (Rosa)   \n",
       "719          720         0       3           Johnson, Mr. Malkolm Joackim   \n",
       "147          148         0       3       Ford, Miss. Robina Maggie \"Ruby\"   \n",
       "794          795         0       3                  Dantcheff, Mr. Ristiu   \n",
       "614          615         0       3        Brocklebank, Mr. William Alfred   \n",
       "742          743         1       1  Ryerson, Miss. Susan Parker \"Suzette\"   \n",
       "363          364         0       3                        Asim, Mr. Adola   \n",
       "\n",
       "        Sex   Age  SibSp  Parch              Ticket      Fare  \\\n",
       "332    male  38.0      0      1            PC 17582  153.4625   \n",
       "190  female  32.0      0      0              234604   13.0000   \n",
       "719    male  33.0      0      0              347062    7.7750   \n",
       "147  female   9.0      2      2          W./C. 6608   34.3750   \n",
       "794    male  25.0      0      0              349203    7.8958   \n",
       "614    male  35.0      0      0              364512    8.0500   \n",
       "742  female  21.0      2      2            PC 17608  262.3750   \n",
       "363    male  35.0      0      0  SOTON/O.Q. 3101310    7.0500   \n",
       "\n",
       "               Cabin Embarked  \n",
       "332              C91        S  \n",
       "190              NaN        S  \n",
       "719              NaN        S  \n",
       "147              NaN        S  \n",
       "794              NaN        S  \n",
       "614              NaN        S  \n",
       "742  B57 B59 B63 B66        C  \n",
       "363              NaN        S  "
      ]
     },
     "execution_count": 261,
     "metadata": {},
     "output_type": "execute_result"
    }
   ],
   "source": [
    "# sample rows\n",
    "train_df.sample(8)"
   ]
  },
  {
   "cell_type": "code",
   "execution_count": 262,
   "metadata": {},
   "outputs": [
    {
     "name": "stdout",
     "output_type": "stream",
     "text": [
      "<class 'pandas.core.frame.DataFrame'>\n",
      "RangeIndex: 891 entries, 0 to 890\n",
      "Data columns (total 12 columns):\n",
      " #   Column       Non-Null Count  Dtype  \n",
      "---  ------       --------------  -----  \n",
      " 0   PassengerId  891 non-null    int64  \n",
      " 1   Survived     891 non-null    int64  \n",
      " 2   Pclass       891 non-null    int64  \n",
      " 3   Name         891 non-null    object \n",
      " 4   Sex          891 non-null    object \n",
      " 5   Age          714 non-null    float64\n",
      " 6   SibSp        891 non-null    int64  \n",
      " 7   Parch        891 non-null    int64  \n",
      " 8   Ticket       891 non-null    object \n",
      " 9   Fare         891 non-null    float64\n",
      " 10  Cabin        204 non-null    object \n",
      " 11  Embarked     889 non-null    object \n",
      "dtypes: float64(2), int64(5), object(5)\n",
      "memory usage: 83.7+ KB\n"
     ]
    }
   ],
   "source": [
    "# columns, NULLs, and dtypes\n",
    "train_df.info()"
   ]
  },
  {
   "cell_type": "code",
   "execution_count": 263,
   "metadata": {},
   "outputs": [
    {
     "data": {
      "text/plain": [
       "0    0.616162\n",
       "1    0.383838\n",
       "Name: Survived, dtype: float64"
      ]
     },
     "execution_count": 263,
     "metadata": {},
     "output_type": "execute_result"
    }
   ],
   "source": [
    "train_df['Survived'].value_counts()/len(train_df)"
   ]
  },
  {
   "cell_type": "markdown",
   "metadata": {},
   "source": [
    "### Numerical Features\n",
    "- Age, SibSp, ParCh, Fare"
   ]
  },
  {
   "cell_type": "code",
   "execution_count": 164,
   "metadata": {},
   "outputs": [
    {
     "data": {
      "text/html": [
       "<div>\n",
       "<style scoped>\n",
       "    .dataframe tbody tr th:only-of-type {\n",
       "        vertical-align: middle;\n",
       "    }\n",
       "\n",
       "    .dataframe tbody tr th {\n",
       "        vertical-align: top;\n",
       "    }\n",
       "\n",
       "    .dataframe thead th {\n",
       "        text-align: right;\n",
       "    }\n",
       "</style>\n",
       "<table border=\"1\" class=\"dataframe\">\n",
       "  <thead>\n",
       "    <tr style=\"text-align: right;\">\n",
       "      <th></th>\n",
       "      <th>Age</th>\n",
       "      <th>SibSp</th>\n",
       "      <th>Parch</th>\n",
       "      <th>Fare</th>\n",
       "    </tr>\n",
       "  </thead>\n",
       "  <tbody>\n",
       "    <tr>\n",
       "      <th>Mean</th>\n",
       "      <td>29.699</td>\n",
       "      <td>0.523</td>\n",
       "      <td>0.382</td>\n",
       "      <td>32.204</td>\n",
       "    </tr>\n",
       "    <tr>\n",
       "      <th>TrMean</th>\n",
       "      <td>29.269</td>\n",
       "      <td>0.272</td>\n",
       "      <td>0.182</td>\n",
       "      <td>21.379</td>\n",
       "    </tr>\n",
       "    <tr>\n",
       "      <th>Median</th>\n",
       "      <td>28.000</td>\n",
       "      <td>0.000</td>\n",
       "      <td>0.000</td>\n",
       "      <td>14.454</td>\n",
       "    </tr>\n",
       "    <tr>\n",
       "      <th>StDev</th>\n",
       "      <td>14.526</td>\n",
       "      <td>1.103</td>\n",
       "      <td>0.806</td>\n",
       "      <td>49.693</td>\n",
       "    </tr>\n",
       "    <tr>\n",
       "      <th>MADev</th>\n",
       "      <td>13.343</td>\n",
       "      <td>0.000</td>\n",
       "      <td>0.000</td>\n",
       "      <td>10.236</td>\n",
       "    </tr>\n",
       "  </tbody>\n",
       "</table>\n",
       "</div>"
      ],
      "text/plain": [
       "           Age  SibSp  Parch    Fare\n",
       "Mean    29.699  0.523  0.382  32.204\n",
       "TrMean  29.269  0.272  0.182  21.379\n",
       "Median  28.000  0.000  0.000  14.454\n",
       "StDev   14.526  1.103  0.806  49.693\n",
       "MADev   13.343  0.000  0.000  10.236"
      ]
     },
     "execution_count": 164,
     "metadata": {},
     "output_type": "execute_result"
    }
   ],
   "source": [
    "# describe numerical features\n",
    "num_cols = ['Mean', 'TrMean', 'Median', 'StDev', 'MADev']\n",
    "num_feats = ['Age', 'SibSp', 'Parch', 'Fare']\n",
    "mean = []\n",
    "trimmed_mean = []\n",
    "median = []\n",
    "stdev = []\n",
    "madev = []\n",
    "\n",
    "# calculate values\n",
    "for feature in num_feats:\n",
    "    mean.append(train_df[feature].dropna().mean())\n",
    "    trimmed_mean.append(trim_mean(train_df[feature].dropna(), 0.1))\n",
    "    median.append(train_df[feature].dropna().median())\n",
    "    stdev.append(train_df[feature].dropna().std())\n",
    "    madev.append(mad(train_df[feature].dropna()))\n",
    "\n",
    "# create and view table\n",
    "num_feats_df = pd.DataFrame(list(zip(mean, trimmed_mean, median, stdev, madev)),\n",
    "                            index = num_feats,\n",
    "                            columns = num_cols)\n",
    "num_feats_df.T.round(3)"
   ]
  },
  {
   "cell_type": "code",
   "execution_count": 165,
   "metadata": {
    "scrolled": false
   },
   "outputs": [
    {
     "data": {
      "text/plain": [
       "Text(0.5, 1.0, 'Age Distribution')"
      ]
     },
     "execution_count": 165,
     "metadata": {},
     "output_type": "execute_result"
    },
    {
     "data": {
      "text/plain": [
       "Text(0, 0.5, '')"
      ]
     },
     "execution_count": 165,
     "metadata": {},
     "output_type": "execute_result"
    },
    {
     "data": {
      "image/png": "[encoded data removed]",
      "text/plain": [
       "<Figure size 216x432 with 1 Axes>"
      ]
     },
     "metadata": {},
     "output_type": "display_data"
    }
   ],
   "source": [
    "# AGE distribution - boxplot\n",
    "sns.set(font_scale=1.2)\n",
    "sns.set_style('white')\n",
    "fig, ax = plt.subplots(figsize=(3, 6))\n",
    "ax = sns.boxplot(train_df['Age'], width=0.5, orient='v', palette=cmap1)\n",
    "ax.set_title('Age Distribution')\n",
    "ax.set_ylabel('')"
   ]
  },
  {
   "cell_type": "code",
   "execution_count": 166,
   "metadata": {},
   "outputs": [
    {
     "data": {
      "text/plain": [
       "<matplotlib.axes._subplots.AxesSubplot at 0x288f94d0f48>"
      ]
     },
     "execution_count": 166,
     "metadata": {},
     "output_type": "execute_result"
    },
    {
     "data": {
      "text/plain": [
       "Text(0.5, 1.0, 'Sibling/Spouse Distribution')"
      ]
     },
     "execution_count": 166,
     "metadata": {},
     "output_type": "execute_result"
    },
    {
     "data": {
      "text/plain": [
       "Text(0.5, 0, '')"
      ]
     },
     "execution_count": 166,
     "metadata": {},
     "output_type": "execute_result"
    },
    {
     "data": {
      "text/plain": [
       "<matplotlib.axes._subplots.AxesSubplot at 0x288f9254548>"
      ]
     },
     "execution_count": 166,
     "metadata": {},
     "output_type": "execute_result"
    },
    {
     "data": {
      "text/plain": [
       "Text(0.5, 1.0, 'Parent/Children Distribution')"
      ]
     },
     "execution_count": 166,
     "metadata": {},
     "output_type": "execute_result"
    },
    {
     "data": {
      "text/plain": [
       "Text(0.5, 0, '')"
      ]
     },
     "execution_count": 166,
     "metadata": {},
     "output_type": "execute_result"
    },
    {
     "data": {
      "image/png": "[encoded data removed]",
      "text/plain": [
       "<Figure size 864x360 with 2 Axes>"
      ]
     },
     "metadata": {},
     "output_type": "display_data"
    }
   ],
   "source": [
    "# SIBSP and PARCH distribution - histogram\n",
    "sns.set(font_scale=1.2)\n",
    "sns.set_style('white')\n",
    "fig, (ax1, ax2) = plt.subplots(ncols=2, sharey=True, figsize=(12, 5))\n",
    "sns.distplot(train_df['SibSp'], bins=6, kde=False, color='black', ax=ax1)\n",
    "ax1.set_title('Sibling/Spouse Distribution')\n",
    "ax1.set_xlabel('')\n",
    "sns.distplot(train_df['Parch'], bins=6, kde=False, color='black', ax=ax2)\n",
    "ax2.set_title('Parent/Children Distribution')\n",
    "ax2.set_xlabel('')\n",
    "\n",
    "# NOTE: Mostly zeroes"
   ]
  },
  {
   "cell_type": "code",
   "execution_count": 167,
   "metadata": {},
   "outputs": [
    {
     "data": {
      "text/plain": [
       "<matplotlib.axes._subplots.AxesSubplot at 0x288f94a8ec8>"
      ]
     },
     "execution_count": 167,
     "metadata": {},
     "output_type": "execute_result"
    },
    {
     "data": {
      "text/plain": [
       "Text(0.5, 1.0, 'Fare Distribution')"
      ]
     },
     "execution_count": 167,
     "metadata": {},
     "output_type": "execute_result"
    },
    {
     "data": {
      "image/png": "[encoded data removed]",
      "text/plain": [
       "<Figure size 432x360 with 1 Axes>"
      ]
     },
     "metadata": {},
     "output_type": "display_data"
    }
   ],
   "source": [
    "# FARE distribution - kernel density estimate\n",
    "sns.set(font_scale=1.2)\n",
    "sns.set_style('white')\n",
    "fig, ax = plt.subplots(figsize=(6, 5))\n",
    "sns.kdeplot(train_df['Fare'], shade=True, color='black', label='', bw=8)\n",
    "ax.set_title('Fare Distribution')\n",
    "\n",
    "# NOTE: right-skewed, needs to be transformed"
   ]
  },
  {
   "cell_type": "markdown",
   "metadata": {},
   "source": [
    "### Categorical Features\n",
    "- Pclass, Sex, Embarked"
   ]
  },
  {
   "cell_type": "code",
   "execution_count": 168,
   "metadata": {},
   "outputs": [
    {
     "data": {
      "text/plain": [
       "3    491\n",
       "1    216\n",
       "2    184\n",
       "Name: Pclass, dtype: int64"
      ]
     },
     "execution_count": 168,
     "metadata": {},
     "output_type": "execute_result"
    },
    {
     "data": {
      "text/plain": [
       "male      577\n",
       "female    314\n",
       "Name: Sex, dtype: int64"
      ]
     },
     "execution_count": 168,
     "metadata": {},
     "output_type": "execute_result"
    },
    {
     "data": {
      "text/plain": [
       "S    644\n",
       "C    168\n",
       "Q     77\n",
       "Name: Embarked, dtype: int64"
      ]
     },
     "execution_count": 168,
     "metadata": {},
     "output_type": "execute_result"
    }
   ],
   "source": [
    "# describe categorical features\n",
    "cat_feats = ['Pclass', 'Sex', 'Embarked']\n",
    "for feature in cat_feats:\n",
    "    train_df[feature].value_counts()"
   ]
  },
  {
   "cell_type": "code",
   "execution_count": 169,
   "metadata": {},
   "outputs": [
    {
     "data": {
      "text/plain": [
       "([<matplotlib.patches.Wedge at 0x288f7ce8648>,\n",
       "  <matplotlib.patches.Wedge at 0x288f7cf11c8>,\n",
       "  <matplotlib.patches.Wedge at 0x288f7cf1f48>],\n",
       " [Text(-0.8280948334907877, 0.8684808269304882, ''),\n",
       "  Text(-0.9896099621739102, -0.6787283129250999, ''),\n",
       "  Text(1.1845905819442033, -0.19169025319273209, '')],\n",
       " [Text(-0.48305531953629277, 0.5066138157094515, '24%'),\n",
       "  Text(-0.5772724779347809, -0.3959248492063082, '21%'),\n",
       "  Text(0.6910111728007853, -0.11181931436242705, '55%')])"
      ]
     },
     "execution_count": 169,
     "metadata": {},
     "output_type": "execute_result"
    },
    {
     "data": {
      "text/plain": [
       "Text(0.5, 1.0, 'Class Distribution')"
      ]
     },
     "execution_count": 169,
     "metadata": {},
     "output_type": "execute_result"
    },
    {
     "data": {
      "text/plain": [
       "<matplotlib.legend.Legend at 0x288f9621ec8>"
      ]
     },
     "execution_count": 169,
     "metadata": {},
     "output_type": "execute_result"
    },
    {
     "data": {
      "text/plain": [
       "([<matplotlib.patches.Wedge at 0x288f96242c8>,\n",
       "  <matplotlib.patches.Wedge at 0x288f9633d48>,\n",
       "  <matplotlib.patches.Wedge at 0x288f9638f08>],\n",
       " [Text(-0.913931440427621, -0.7776434415578223, ''),\n",
       "  Text(1.0893052658702065, 0.5034024610065377, ''),\n",
       "  Text(0.3225130788540454, 1.155848309237888, '')],\n",
       " [Text(-0.5331266735827789, -0.45362534090872964, '72%'),\n",
       "  Text(0.6354280717576204, 0.293651435587147, '19%'),\n",
       "  Text(0.18813262933152647, 0.6742448470554346, '9%')])"
      ]
     },
     "execution_count": 169,
     "metadata": {},
     "output_type": "execute_result"
    },
    {
     "data": {
      "text/plain": [
       "Text(0.5, 1.0, 'Embarkment Distribution')"
      ]
     },
     "execution_count": 169,
     "metadata": {},
     "output_type": "execute_result"
    },
    {
     "data": {
      "text/plain": [
       "<matplotlib.legend.Legend at 0x288f9643608>"
      ]
     },
     "execution_count": 169,
     "metadata": {},
     "output_type": "execute_result"
    },
    {
     "data": {
      "image/png": "[encoded data removed]",
      "text/plain": [
       "<Figure size 864x360 with 2 Axes>"
      ]
     },
     "metadata": {},
     "output_type": "display_data"
    }
   ],
   "source": [
    "# PCLASS distribution - pie chart\n",
    "labels_1 = '1st', '2nd', '3rd'\n",
    "labels_2 = 'Southampton', 'Cherbourg', 'Queenstown'\n",
    "cmap = plt.get_cmap(\"Blues\")\n",
    "colors_1 = cmap([90, 160, 20])\n",
    "colors_2 = cmap([20, 90, 160])\n",
    "\n",
    "fig, ax = plt.subplots(ncols=2, figsize=(12, 5))\n",
    "ax[0].pie([216, 184, 491], startangle=90, colors=colors_1, wedgeprops={'edgecolor':'black'}, \n",
    "        autopct='%1.f%%', shadow=True, explode=(0.1, 0.1, 0.1))\n",
    "ax[0].set_title('Class Distribution', fontsize=16)\n",
    "ax[0].legend(labels=labels_1, fontsize=13, loc=4)\n",
    "ax[1].pie([644, 168, 77], startangle=90, colors=colors_2, wedgeprops={'edgecolor':'black'},\n",
    "        autopct='%1.f%%', shadow=True, explode=(0.1, 0.1, 0.1))\n",
    "ax[1].set_title('Embarkment Distribution', fontsize=16)\n",
    "ax[1].legend(labels=labels_2, fontsize=13, loc=4)"
   ]
  },
  {
   "cell_type": "markdown",
   "metadata": {},
   "source": [
    "## 2.2. Clean Dataset"
   ]
  },
  {
   "cell_type": "markdown",
   "metadata": {},
   "source": [
    "- Address NULLs\n",
    "- Split 'Cabin' into Deck, Rm_Num\n",
    "- Split 'Name' into Title, Last\n",
    "- Address Party Info"
   ]
  },
  {
   "cell_type": "markdown",
   "metadata": {},
   "source": [
    "### Address NULLs"
   ]
  },
  {
   "cell_type": "code",
   "execution_count": 170,
   "metadata": {},
   "outputs": [
    {
     "data": {
      "text/html": [
       "<div>\n",
       "<style scoped>\n",
       "    .dataframe tbody tr th:only-of-type {\n",
       "        vertical-align: middle;\n",
       "    }\n",
       "\n",
       "    .dataframe tbody tr th {\n",
       "        vertical-align: top;\n",
       "    }\n",
       "\n",
       "    .dataframe thead th {\n",
       "        text-align: right;\n",
       "    }\n",
       "</style>\n",
       "<table border=\"1\" class=\"dataframe\">\n",
       "  <thead>\n",
       "    <tr style=\"text-align: right;\">\n",
       "      <th></th>\n",
       "      <th>Percent_NULL</th>\n",
       "    </tr>\n",
       "  </thead>\n",
       "  <tbody>\n",
       "    <tr>\n",
       "      <th>Cabin</th>\n",
       "      <td>77.104377</td>\n",
       "    </tr>\n",
       "    <tr>\n",
       "      <th>Age</th>\n",
       "      <td>19.865320</td>\n",
       "    </tr>\n",
       "    <tr>\n",
       "      <th>Embarked</th>\n",
       "      <td>0.224467</td>\n",
       "    </tr>\n",
       "    <tr>\n",
       "      <th>Fare</th>\n",
       "      <td>0.000000</td>\n",
       "    </tr>\n",
       "  </tbody>\n",
       "</table>\n",
       "</div>"
      ],
      "text/plain": [
       "          Percent_NULL\n",
       "Cabin        77.104377\n",
       "Age          19.865320\n",
       "Embarked      0.224467\n",
       "Fare          0.000000"
      ]
     },
     "execution_count": 170,
     "metadata": {},
     "output_type": "execute_result"
    },
    {
     "data": {
      "text/html": [
       "<div>\n",
       "<style scoped>\n",
       "    .dataframe tbody tr th:only-of-type {\n",
       "        vertical-align: middle;\n",
       "    }\n",
       "\n",
       "    .dataframe tbody tr th {\n",
       "        vertical-align: top;\n",
       "    }\n",
       "\n",
       "    .dataframe thead th {\n",
       "        text-align: right;\n",
       "    }\n",
       "</style>\n",
       "<table border=\"1\" class=\"dataframe\">\n",
       "  <thead>\n",
       "    <tr style=\"text-align: right;\">\n",
       "      <th></th>\n",
       "      <th>Percent_NULL</th>\n",
       "    </tr>\n",
       "  </thead>\n",
       "  <tbody>\n",
       "    <tr>\n",
       "      <th>Cabin</th>\n",
       "      <td>78.229665</td>\n",
       "    </tr>\n",
       "    <tr>\n",
       "      <th>Age</th>\n",
       "      <td>20.574163</td>\n",
       "    </tr>\n",
       "    <tr>\n",
       "      <th>Fare</th>\n",
       "      <td>0.239234</td>\n",
       "    </tr>\n",
       "    <tr>\n",
       "      <th>Embarked</th>\n",
       "      <td>0.000000</td>\n",
       "    </tr>\n",
       "  </tbody>\n",
       "</table>\n",
       "</div>"
      ],
      "text/plain": [
       "          Percent_NULL\n",
       "Cabin        78.229665\n",
       "Age          20.574163\n",
       "Fare          0.239234\n",
       "Embarked      0.000000"
      ]
     },
     "execution_count": 170,
     "metadata": {},
     "output_type": "execute_result"
    }
   ],
   "source": [
    "# create tables of % NULLs\n",
    "for dataset in combine:\n",
    "    pd.DataFrame({'Percent_NULL': (dataset.isnull().sum()/len(dataset)*100).sort_values(ascending=False)}).head(4)"
   ]
  },
  {
   "cell_type": "markdown",
   "metadata": {},
   "source": [
    "The majority of cabin assignments are unknown but, if possible, I'd like to salvage this feature. It seems likely to influence survival. For now, I will assign a placeholder ('Z') for NULL values."
   ]
  },
  {
   "cell_type": "code",
   "execution_count": 171,
   "metadata": {},
   "outputs": [],
   "source": [
    "# fill NULLs with 'Z'\n",
    "for dataset in combine:\n",
    "    dataset['Cabin'].fillna('Z', inplace=True)"
   ]
  },
  {
   "cell_type": "markdown",
   "metadata": {},
   "source": [
    "Other features could give us clues about passenger age. I will assign a placeholder (0) for NULL values until I can address it properly."
   ]
  },
  {
   "cell_type": "code",
   "execution_count": 172,
   "metadata": {},
   "outputs": [],
   "source": [
    "# fill NULLs with 0\n",
    "for dataset in combine:\n",
    "    dataset['Age'].fillna(0, inplace=True)"
   ]
  },
  {
   "cell_type": "markdown",
   "metadata": {},
   "source": [
    "Embarkment location and fare are almost complete, so I will fill NULL values with the mode and mean, respectively."
   ]
  },
  {
   "cell_type": "code",
   "execution_count": 173,
   "metadata": {},
   "outputs": [],
   "source": [
    "# fill NULLs with mode/mean\n",
    "for dataset in combine:\n",
    "    dataset['Embarked'].fillna(dataset['Embarked'].mode()[0], inplace=True)\n",
    "    dataset['Fare'].fillna(dataset['Fare'].mean(), inplace=True)"
   ]
  },
  {
   "cell_type": "code",
   "execution_count": 174,
   "metadata": {},
   "outputs": [
    {
     "data": {
      "text/html": [
       "<div>\n",
       "<style scoped>\n",
       "    .dataframe tbody tr th:only-of-type {\n",
       "        vertical-align: middle;\n",
       "    }\n",
       "\n",
       "    .dataframe tbody tr th {\n",
       "        vertical-align: top;\n",
       "    }\n",
       "\n",
       "    .dataframe thead th {\n",
       "        text-align: right;\n",
       "    }\n",
       "</style>\n",
       "<table border=\"1\" class=\"dataframe\">\n",
       "  <thead>\n",
       "    <tr style=\"text-align: right;\">\n",
       "      <th></th>\n",
       "      <th>Percent_NULL</th>\n",
       "    </tr>\n",
       "  </thead>\n",
       "  <tbody>\n",
       "    <tr>\n",
       "      <th>Embarked</th>\n",
       "      <td>0.0</td>\n",
       "    </tr>\n",
       "    <tr>\n",
       "      <th>Cabin</th>\n",
       "      <td>0.0</td>\n",
       "    </tr>\n",
       "    <tr>\n",
       "      <th>Fare</th>\n",
       "      <td>0.0</td>\n",
       "    </tr>\n",
       "    <tr>\n",
       "      <th>Ticket</th>\n",
       "      <td>0.0</td>\n",
       "    </tr>\n",
       "  </tbody>\n",
       "</table>\n",
       "</div>"
      ],
      "text/plain": [
       "          Percent_NULL\n",
       "Embarked           0.0\n",
       "Cabin              0.0\n",
       "Fare               0.0\n",
       "Ticket             0.0"
      ]
     },
     "execution_count": 174,
     "metadata": {},
     "output_type": "execute_result"
    },
    {
     "data": {
      "text/html": [
       "<div>\n",
       "<style scoped>\n",
       "    .dataframe tbody tr th:only-of-type {\n",
       "        vertical-align: middle;\n",
       "    }\n",
       "\n",
       "    .dataframe tbody tr th {\n",
       "        vertical-align: top;\n",
       "    }\n",
       "\n",
       "    .dataframe thead th {\n",
       "        text-align: right;\n",
       "    }\n",
       "</style>\n",
       "<table border=\"1\" class=\"dataframe\">\n",
       "  <thead>\n",
       "    <tr style=\"text-align: right;\">\n",
       "      <th></th>\n",
       "      <th>Percent_NULL</th>\n",
       "    </tr>\n",
       "  </thead>\n",
       "  <tbody>\n",
       "    <tr>\n",
       "      <th>Embarked</th>\n",
       "      <td>0.0</td>\n",
       "    </tr>\n",
       "    <tr>\n",
       "      <th>Cabin</th>\n",
       "      <td>0.0</td>\n",
       "    </tr>\n",
       "    <tr>\n",
       "      <th>Fare</th>\n",
       "      <td>0.0</td>\n",
       "    </tr>\n",
       "    <tr>\n",
       "      <th>Ticket</th>\n",
       "      <td>0.0</td>\n",
       "    </tr>\n",
       "  </tbody>\n",
       "</table>\n",
       "</div>"
      ],
      "text/plain": [
       "          Percent_NULL\n",
       "Embarked           0.0\n",
       "Cabin              0.0\n",
       "Fare               0.0\n",
       "Ticket             0.0"
      ]
     },
     "execution_count": 174,
     "metadata": {},
     "output_type": "execute_result"
    }
   ],
   "source": [
    "# QA check\n",
    "for dataset in combine:\n",
    "    pd.DataFrame({'Percent_NULL': (dataset.isnull().sum()/len(dataset)*100).sort_values(ascending=False)}).head(4)"
   ]
  },
  {
   "cell_type": "markdown",
   "metadata": {},
   "source": [
    "### Split Cabin Info"
   ]
  },
  {
   "cell_type": "markdown",
   "metadata": {},
   "source": [
    "Cabin data (ex. A35) contain three different pieces of information: deck (A), cabin number (35), and cabin count (35, 40, 41 = 3 cabins). As such, I want to split 'Cabin' into 'Deck', 'CabinNum', and 'CabinCnt'."
   ]
  },
  {
   "cell_type": "code",
   "execution_count": 175,
   "metadata": {},
   "outputs": [],
   "source": [
    "# split 'Cabin' into 'CabinNum', 'Deck', and 'CabinCnt'\n",
    "for dataset in combine:\n",
    "    dataset['Deck'] = dataset['Cabin'].apply(lambda x: re.findall(r\"\\D\", x)[0])\n",
    "    dataset['CabinNum'] = dataset['Cabin'].apply(lambda x: re.findall(r\"\\d{1,500}\", x))\n",
    "    dataset['CabinCnt'] = dataset['CabinNum'].apply(lambda x: len(x) if len(x)>0 else 0)\n",
    "    dataset['CabinNum'] = dataset['CabinNum'].apply(lambda x: x[0] if len(x)>0 else 0)"
   ]
  },
  {
   "cell_type": "markdown",
   "metadata": {},
   "source": [
    "### Split Name Info"
   ]
  },
  {
   "cell_type": "markdown",
   "metadata": {},
   "source": [
    "I want to parse 'Name' and keep the pieces I think are informative."
   ]
  },
  {
   "cell_type": "code",
   "execution_count": 176,
   "metadata": {},
   "outputs": [],
   "source": [
    "# split 'Name' into 'Last' and 'Title'\n",
    "for dataset in combine:\n",
    "    dataset['Last'] = dataset['Name'].apply(lambda x: x.split(',', 2)[0])\n",
    "    dataset['Name'] = dataset['Name'].apply(lambda x: x.split(',', 2)[1])\n",
    "    dataset['Title'] = dataset['Name'].apply(lambda x: x.split('.', 2)[0])"
   ]
  },
  {
   "cell_type": "code",
   "execution_count": 177,
   "metadata": {},
   "outputs": [
    {
     "data": {
      "text/plain": [
       "17"
      ]
     },
     "execution_count": 177,
     "metadata": {},
     "output_type": "execute_result"
    },
    {
     "name": "stdout",
     "output_type": "stream",
     "text": [
      "Titles with >10 Records: [' Mr', ' Miss', ' Mrs', ' Master']\n"
     ]
    },
    {
     "data": {
      "text/plain": [
       "9"
      ]
     },
     "execution_count": 177,
     "metadata": {},
     "output_type": "execute_result"
    },
    {
     "name": "stdout",
     "output_type": "stream",
     "text": [
      "Titles with >10 Records: [' Mr', ' Miss', ' Mrs', ' Master']\n"
     ]
    }
   ],
   "source": [
    "# clean up 'Title'\n",
    "for dataset in combine:\n",
    "    dataset['Title'].nunique()\n",
    "    titles = dataset['Title'].value_counts().reset_index(name='count').query('count>10')['index'].tolist()\n",
    "    dataset['Title'] = dataset['Title'].apply(lambda x: x if x in titles else 'Other')\n",
    "    print('Titles with >10 Records: {}'.format(titles))"
   ]
  },
  {
   "cell_type": "markdown",
   "metadata": {},
   "source": [
    "### Party Info\n",
    "Tickets, ParCh, and SibSp might contain information about how many other passengers a passenger knew. This could impact survival and fare. I want to create 'GroupSize', 'FamilySize' and 'IsAlone' to hold this information."
   ]
  },
  {
   "cell_type": "code",
   "execution_count": 178,
   "metadata": {},
   "outputs": [],
   "source": [
    "# calculate 'GroupSize' for shared tickets\n",
    "for dataset in combine:\n",
    "    ticket_ref = dataset['Ticket'].value_counts().reset_index(name='count')\n",
    "    dataset['GroupSize'] = dataset['Ticket'].apply(lambda x: ticket_ref.loc[ticket_ref['index']==x, 'count'].tolist()[0])"
   ]
  },
  {
   "cell_type": "code",
   "execution_count": 179,
   "metadata": {
    "scrolled": false
   },
   "outputs": [],
   "source": [
    "# calculate 'FamilySize'\n",
    "for dataset in combine:\n",
    "    dataset['FamilySize'] = dataset['Parch'] + dataset['SibSp']+1"
   ]
  },
  {
   "cell_type": "code",
   "execution_count": 180,
   "metadata": {},
   "outputs": [],
   "source": [
    "# Create 'IsAlone' based on 'GroupSize' and 'FamilySize'\n",
    "for dataset in combine:\n",
    "    dataset['IsAlone'] = 0\n",
    "    dataset.loc[(dataset['GroupSize'] == 1) & (dataset['FamilySize'] == 1), 'IsAlone'] = 1"
   ]
  },
  {
   "cell_type": "markdown",
   "metadata": {},
   "source": [
    "### Streamline Dataset"
   ]
  },
  {
   "cell_type": "code",
   "execution_count": 181,
   "metadata": {
    "scrolled": false
   },
   "outputs": [
    {
     "data": {
      "text/html": [
       "<div>\n",
       "<style scoped>\n",
       "    .dataframe tbody tr th:only-of-type {\n",
       "        vertical-align: middle;\n",
       "    }\n",
       "\n",
       "    .dataframe tbody tr th {\n",
       "        vertical-align: top;\n",
       "    }\n",
       "\n",
       "    .dataframe thead th {\n",
       "        text-align: right;\n",
       "    }\n",
       "</style>\n",
       "<table border=\"1\" class=\"dataframe\">\n",
       "  <thead>\n",
       "    <tr style=\"text-align: right;\">\n",
       "      <th></th>\n",
       "      <th>PassengerId</th>\n",
       "      <th>Survived</th>\n",
       "      <th>Pclass</th>\n",
       "      <th>Name</th>\n",
       "      <th>Sex</th>\n",
       "      <th>Age</th>\n",
       "      <th>SibSp</th>\n",
       "      <th>Parch</th>\n",
       "      <th>Ticket</th>\n",
       "      <th>Fare</th>\n",
       "      <th>Cabin</th>\n",
       "      <th>Embarked</th>\n",
       "      <th>Deck</th>\n",
       "      <th>CabinNum</th>\n",
       "      <th>CabinCnt</th>\n",
       "      <th>Last</th>\n",
       "      <th>Title</th>\n",
       "      <th>GroupSize</th>\n",
       "      <th>FamilySize</th>\n",
       "      <th>IsAlone</th>\n",
       "    </tr>\n",
       "  </thead>\n",
       "  <tbody>\n",
       "    <tr>\n",
       "      <th>673</th>\n",
       "      <td>674</td>\n",
       "      <td>1</td>\n",
       "      <td>2</td>\n",
       "      <td>Mr. Charles</td>\n",
       "      <td>male</td>\n",
       "      <td>31.0</td>\n",
       "      <td>0</td>\n",
       "      <td>0</td>\n",
       "      <td>244270</td>\n",
       "      <td>13.0000</td>\n",
       "      <td>Z</td>\n",
       "      <td>S</td>\n",
       "      <td>Z</td>\n",
       "      <td>0</td>\n",
       "      <td>0</td>\n",
       "      <td>Wilhelms</td>\n",
       "      <td>Mr</td>\n",
       "      <td>1</td>\n",
       "      <td>1</td>\n",
       "      <td>1</td>\n",
       "    </tr>\n",
       "    <tr>\n",
       "      <th>43</th>\n",
       "      <td>44</td>\n",
       "      <td>1</td>\n",
       "      <td>2</td>\n",
       "      <td>Miss. Simonne Marie Anne Andree</td>\n",
       "      <td>female</td>\n",
       "      <td>3.0</td>\n",
       "      <td>1</td>\n",
       "      <td>2</td>\n",
       "      <td>SC/Paris 2123</td>\n",
       "      <td>41.5792</td>\n",
       "      <td>Z</td>\n",
       "      <td>C</td>\n",
       "      <td>Z</td>\n",
       "      <td>0</td>\n",
       "      <td>0</td>\n",
       "      <td>Laroche</td>\n",
       "      <td>Miss</td>\n",
       "      <td>3</td>\n",
       "      <td>4</td>\n",
       "      <td>0</td>\n",
       "    </tr>\n",
       "    <tr>\n",
       "      <th>285</th>\n",
       "      <td>286</td>\n",
       "      <td>0</td>\n",
       "      <td>3</td>\n",
       "      <td>Mr. Ivan</td>\n",
       "      <td>male</td>\n",
       "      <td>33.0</td>\n",
       "      <td>0</td>\n",
       "      <td>0</td>\n",
       "      <td>349239</td>\n",
       "      <td>8.6625</td>\n",
       "      <td>Z</td>\n",
       "      <td>C</td>\n",
       "      <td>Z</td>\n",
       "      <td>0</td>\n",
       "      <td>0</td>\n",
       "      <td>Stankovic</td>\n",
       "      <td>Mr</td>\n",
       "      <td>1</td>\n",
       "      <td>1</td>\n",
       "      <td>1</td>\n",
       "    </tr>\n",
       "  </tbody>\n",
       "</table>\n",
       "</div>"
      ],
      "text/plain": [
       "     PassengerId  Survived  Pclass                              Name     Sex  \\\n",
       "673          674         1       2                       Mr. Charles    male   \n",
       "43            44         1       2   Miss. Simonne Marie Anne Andree  female   \n",
       "285          286         0       3                          Mr. Ivan    male   \n",
       "\n",
       "      Age  SibSp  Parch         Ticket     Fare Cabin Embarked Deck CabinNum  \\\n",
       "673  31.0      0      0         244270  13.0000     Z        S    Z        0   \n",
       "43    3.0      1      2  SC/Paris 2123  41.5792     Z        C    Z        0   \n",
       "285  33.0      0      0         349239   8.6625     Z        C    Z        0   \n",
       "\n",
       "     CabinCnt       Last  Title  GroupSize  FamilySize  IsAlone  \n",
       "673         0   Wilhelms     Mr          1           1        1  \n",
       "43          0    Laroche   Miss          3           4        0  \n",
       "285         0  Stankovic     Mr          1           1        1  "
      ]
     },
     "execution_count": 181,
     "metadata": {},
     "output_type": "execute_result"
    },
    {
     "data": {
      "text/html": [
       "<div>\n",
       "<style scoped>\n",
       "    .dataframe tbody tr th:only-of-type {\n",
       "        vertical-align: middle;\n",
       "    }\n",
       "\n",
       "    .dataframe tbody tr th {\n",
       "        vertical-align: top;\n",
       "    }\n",
       "\n",
       "    .dataframe thead th {\n",
       "        text-align: right;\n",
       "    }\n",
       "</style>\n",
       "<table border=\"1\" class=\"dataframe\">\n",
       "  <thead>\n",
       "    <tr style=\"text-align: right;\">\n",
       "      <th></th>\n",
       "      <th>PassengerId</th>\n",
       "      <th>Pclass</th>\n",
       "      <th>Name</th>\n",
       "      <th>Sex</th>\n",
       "      <th>Age</th>\n",
       "      <th>SibSp</th>\n",
       "      <th>Parch</th>\n",
       "      <th>Ticket</th>\n",
       "      <th>Fare</th>\n",
       "      <th>Cabin</th>\n",
       "      <th>Embarked</th>\n",
       "      <th>Deck</th>\n",
       "      <th>CabinNum</th>\n",
       "      <th>CabinCnt</th>\n",
       "      <th>Last</th>\n",
       "      <th>Title</th>\n",
       "      <th>GroupSize</th>\n",
       "      <th>FamilySize</th>\n",
       "      <th>IsAlone</th>\n",
       "    </tr>\n",
       "  </thead>\n",
       "  <tbody>\n",
       "    <tr>\n",
       "      <th>59</th>\n",
       "      <td>951</td>\n",
       "      <td>1</td>\n",
       "      <td>Miss. Victorine</td>\n",
       "      <td>female</td>\n",
       "      <td>36.0</td>\n",
       "      <td>0</td>\n",
       "      <td>0</td>\n",
       "      <td>PC 17608</td>\n",
       "      <td>262.3750</td>\n",
       "      <td>B61</td>\n",
       "      <td>C</td>\n",
       "      <td>B</td>\n",
       "      <td>61</td>\n",
       "      <td>1</td>\n",
       "      <td>Chaudanson</td>\n",
       "      <td>Miss</td>\n",
       "      <td>5</td>\n",
       "      <td>1</td>\n",
       "      <td>0</td>\n",
       "    </tr>\n",
       "    <tr>\n",
       "      <th>147</th>\n",
       "      <td>1039</td>\n",
       "      <td>3</td>\n",
       "      <td>Mr. Evan</td>\n",
       "      <td>male</td>\n",
       "      <td>22.0</td>\n",
       "      <td>0</td>\n",
       "      <td>0</td>\n",
       "      <td>SC/A4 23568</td>\n",
       "      <td>8.0500</td>\n",
       "      <td>Z</td>\n",
       "      <td>S</td>\n",
       "      <td>Z</td>\n",
       "      <td>0</td>\n",
       "      <td>0</td>\n",
       "      <td>Davies</td>\n",
       "      <td>Mr</td>\n",
       "      <td>1</td>\n",
       "      <td>1</td>\n",
       "      <td>1</td>\n",
       "    </tr>\n",
       "    <tr>\n",
       "      <th>269</th>\n",
       "      <td>1161</td>\n",
       "      <td>3</td>\n",
       "      <td>Mr. Mate</td>\n",
       "      <td>male</td>\n",
       "      <td>17.0</td>\n",
       "      <td>0</td>\n",
       "      <td>0</td>\n",
       "      <td>315095</td>\n",
       "      <td>8.6625</td>\n",
       "      <td>Z</td>\n",
       "      <td>S</td>\n",
       "      <td>Z</td>\n",
       "      <td>0</td>\n",
       "      <td>0</td>\n",
       "      <td>Pokrnic</td>\n",
       "      <td>Mr</td>\n",
       "      <td>1</td>\n",
       "      <td>1</td>\n",
       "      <td>1</td>\n",
       "    </tr>\n",
       "  </tbody>\n",
       "</table>\n",
       "</div>"
      ],
      "text/plain": [
       "     PassengerId  Pclass              Name     Sex   Age  SibSp  Parch  \\\n",
       "59           951       1   Miss. Victorine  female  36.0      0      0   \n",
       "147         1039       3          Mr. Evan    male  22.0      0      0   \n",
       "269         1161       3          Mr. Mate    male  17.0      0      0   \n",
       "\n",
       "          Ticket      Fare Cabin Embarked Deck CabinNum  CabinCnt        Last  \\\n",
       "59      PC 17608  262.3750   B61        C    B       61         1  Chaudanson   \n",
       "147  SC/A4 23568    8.0500     Z        S    Z        0         0      Davies   \n",
       "269       315095    8.6625     Z        S    Z        0         0     Pokrnic   \n",
       "\n",
       "     Title  GroupSize  FamilySize  IsAlone  \n",
       "59    Miss          5           1        0  \n",
       "147     Mr          1           1        1  \n",
       "269     Mr          1           1        1  "
      ]
     },
     "execution_count": 181,
     "metadata": {},
     "output_type": "execute_result"
    }
   ],
   "source": [
    "# check RAW dataset\n",
    "for dataset in combine:\n",
    "    dataset.sample(3)"
   ]
  },
  {
   "cell_type": "code",
   "execution_count": 182,
   "metadata": {},
   "outputs": [],
   "source": [
    "# drop uninformative columns\n",
    "for dataset in combine:\n",
    "    dataset.drop(columns=['Name', 'SibSp', 'Parch', 'Ticket', \n",
    "                          'Cabin', 'CabinCnt', 'Last'], inplace=True)"
   ]
  },
  {
   "cell_type": "code",
   "execution_count": 183,
   "metadata": {},
   "outputs": [],
   "source": [
    "# rename columns\n",
    "for dataset in combine:\n",
    "    dataset.rename(columns={'PassengerId':'ID', 'Pclass':'Class', 'CabinNum':'Cabin'}, inplace=True)"
   ]
  },
  {
   "cell_type": "code",
   "execution_count": 184,
   "metadata": {},
   "outputs": [],
   "source": [
    "# re-order columns\n",
    "train_cols = ['ID', 'Title', 'Sex', 'Age', 'FamilySize', 'GroupSize', 'IsAlone', 'Class', 'Fare', 'Deck', 'Cabin', 'Embarked', 'Survived']\n",
    "test_cols = ['ID', 'Title', 'Sex', 'Age', 'FamilySize', 'GroupSize', 'IsAlone', 'Class', 'Fare', 'Deck', 'Cabin', 'Embarked']\n",
    "train_df = train_df[train_cols]\n",
    "test_df = test_df[test_cols]\n",
    "combine = [train_df, test_df]"
   ]
  },
  {
   "cell_type": "code",
   "execution_count": 185,
   "metadata": {},
   "outputs": [],
   "source": [
    "# make columns numeric\n",
    "for dataset in combine:\n",
    "    dataset['Sex'] = dataset['Sex'].map({'male':0, 'female':1})\n",
    "    dataset['Deck'] = dataset['Deck'].map({'A':1, 'B':2, 'C':3, 'D':4, 'E':5, 'F':6, 'G':7, 'T':8, 'Z':8})\n",
    "    dataset['Embarked'] = dataset['Embarked'].map({'C':1, 'Q':2, 'S':3})\n",
    "    dataset['Title'] = dataset['Title'].map({' Mr':1, ' Mrs':2, ' Master':3, ' Miss':4, 'Other':5})"
   ]
  },
  {
   "cell_type": "code",
   "execution_count": 186,
   "metadata": {},
   "outputs": [],
   "source": [
    "# change dtypes\n",
    "for dataset in combine:\n",
    "    dataset['Cabin'] = dataset['Cabin'].astype('int64')\n",
    "    dataset['Age'] = round(dataset['Age'], 0).astype('int64')"
   ]
  },
  {
   "cell_type": "code",
   "execution_count": 187,
   "metadata": {},
   "outputs": [],
   "source": [
    "# round floats\n",
    "for dataset in combine:\n",
    "    dataset['Fare'] = round(dataset['Fare'], 2)"
   ]
  },
  {
   "cell_type": "code",
   "execution_count": 188,
   "metadata": {
    "scrolled": false
   },
   "outputs": [
    {
     "data": {
      "text/html": [
       "<div>\n",
       "<style scoped>\n",
       "    .dataframe tbody tr th:only-of-type {\n",
       "        vertical-align: middle;\n",
       "    }\n",
       "\n",
       "    .dataframe tbody tr th {\n",
       "        vertical-align: top;\n",
       "    }\n",
       "\n",
       "    .dataframe thead th {\n",
       "        text-align: right;\n",
       "    }\n",
       "</style>\n",
       "<table border=\"1\" class=\"dataframe\">\n",
       "  <thead>\n",
       "    <tr style=\"text-align: right;\">\n",
       "      <th></th>\n",
       "      <th>ID</th>\n",
       "      <th>Title</th>\n",
       "      <th>Sex</th>\n",
       "      <th>Age</th>\n",
       "      <th>FamilySize</th>\n",
       "      <th>GroupSize</th>\n",
       "      <th>IsAlone</th>\n",
       "      <th>Class</th>\n",
       "      <th>Fare</th>\n",
       "      <th>Deck</th>\n",
       "      <th>Cabin</th>\n",
       "      <th>Embarked</th>\n",
       "      <th>Survived</th>\n",
       "    </tr>\n",
       "  </thead>\n",
       "  <tbody>\n",
       "    <tr>\n",
       "      <th>386</th>\n",
       "      <td>387</td>\n",
       "      <td>3</td>\n",
       "      <td>0</td>\n",
       "      <td>1</td>\n",
       "      <td>8</td>\n",
       "      <td>6</td>\n",
       "      <td>0</td>\n",
       "      <td>3</td>\n",
       "      <td>46.90</td>\n",
       "      <td>8</td>\n",
       "      <td>0</td>\n",
       "      <td>3</td>\n",
       "      <td>0</td>\n",
       "    </tr>\n",
       "    <tr>\n",
       "      <th>760</th>\n",
       "      <td>761</td>\n",
       "      <td>1</td>\n",
       "      <td>0</td>\n",
       "      <td>0</td>\n",
       "      <td>1</td>\n",
       "      <td>2</td>\n",
       "      <td>0</td>\n",
       "      <td>3</td>\n",
       "      <td>14.50</td>\n",
       "      <td>8</td>\n",
       "      <td>0</td>\n",
       "      <td>3</td>\n",
       "      <td>0</td>\n",
       "    </tr>\n",
       "    <tr>\n",
       "      <th>118</th>\n",
       "      <td>119</td>\n",
       "      <td>1</td>\n",
       "      <td>0</td>\n",
       "      <td>24</td>\n",
       "      <td>2</td>\n",
       "      <td>2</td>\n",
       "      <td>0</td>\n",
       "      <td>1</td>\n",
       "      <td>247.52</td>\n",
       "      <td>2</td>\n",
       "      <td>58</td>\n",
       "      <td>1</td>\n",
       "      <td>0</td>\n",
       "    </tr>\n",
       "  </tbody>\n",
       "</table>\n",
       "</div>"
      ],
      "text/plain": [
       "      ID  Title  Sex  Age  FamilySize  GroupSize  IsAlone  Class    Fare  \\\n",
       "386  387      3    0    1           8          6        0      3   46.90   \n",
       "760  761      1    0    0           1          2        0      3   14.50   \n",
       "118  119      1    0   24           2          2        0      1  247.52   \n",
       "\n",
       "     Deck  Cabin  Embarked  Survived  \n",
       "386     8      0         3         0  \n",
       "760     8      0         3         0  \n",
       "118     2     58         1         0  "
      ]
     },
     "execution_count": 188,
     "metadata": {},
     "output_type": "execute_result"
    },
    {
     "name": "stdout",
     "output_type": "stream",
     "text": [
      "<class 'pandas.core.frame.DataFrame'>\n",
      "RangeIndex: 891 entries, 0 to 890\n",
      "Data columns (total 13 columns):\n",
      " #   Column      Non-Null Count  Dtype  \n",
      "---  ------      --------------  -----  \n",
      " 0   ID          891 non-null    int64  \n",
      " 1   Title       891 non-null    int64  \n",
      " 2   Sex         891 non-null    int64  \n",
      " 3   Age         891 non-null    int64  \n",
      " 4   FamilySize  891 non-null    int64  \n",
      " 5   GroupSize   891 non-null    int64  \n",
      " 6   IsAlone     891 non-null    int64  \n",
      " 7   Class       891 non-null    int64  \n",
      " 8   Fare        891 non-null    float64\n",
      " 9   Deck        891 non-null    int64  \n",
      " 10  Cabin       891 non-null    int64  \n",
      " 11  Embarked    891 non-null    int64  \n",
      " 12  Survived    891 non-null    int64  \n",
      "dtypes: float64(1), int64(12)\n",
      "memory usage: 90.6 KB\n"
     ]
    },
    {
     "data": {
      "text/html": [
       "<div>\n",
       "<style scoped>\n",
       "    .dataframe tbody tr th:only-of-type {\n",
       "        vertical-align: middle;\n",
       "    }\n",
       "\n",
       "    .dataframe tbody tr th {\n",
       "        vertical-align: top;\n",
       "    }\n",
       "\n",
       "    .dataframe thead th {\n",
       "        text-align: right;\n",
       "    }\n",
       "</style>\n",
       "<table border=\"1\" class=\"dataframe\">\n",
       "  <thead>\n",
       "    <tr style=\"text-align: right;\">\n",
       "      <th></th>\n",
       "      <th>ID</th>\n",
       "      <th>Title</th>\n",
       "      <th>Sex</th>\n",
       "      <th>Age</th>\n",
       "      <th>FamilySize</th>\n",
       "      <th>GroupSize</th>\n",
       "      <th>IsAlone</th>\n",
       "      <th>Class</th>\n",
       "      <th>Fare</th>\n",
       "      <th>Deck</th>\n",
       "      <th>Cabin</th>\n",
       "      <th>Embarked</th>\n",
       "      <th>Survived</th>\n",
       "    </tr>\n",
       "  </thead>\n",
       "  <tbody>\n",
       "    <tr>\n",
       "      <th>count</th>\n",
       "      <td>891.000000</td>\n",
       "      <td>891.000000</td>\n",
       "      <td>891.000000</td>\n",
       "      <td>891.000000</td>\n",
       "      <td>891.000000</td>\n",
       "      <td>891.000000</td>\n",
       "      <td>891.000000</td>\n",
       "      <td>891.000000</td>\n",
       "      <td>891.000000</td>\n",
       "      <td>891.000000</td>\n",
       "      <td>891.000000</td>\n",
       "      <td>891.000000</td>\n",
       "      <td>891.000000</td>\n",
       "    </tr>\n",
       "    <tr>\n",
       "      <th>mean</th>\n",
       "      <td>446.000000</td>\n",
       "      <td>1.964085</td>\n",
       "      <td>0.352413</td>\n",
       "      <td>23.794613</td>\n",
       "      <td>1.904602</td>\n",
       "      <td>1.787879</td>\n",
       "      <td>0.518519</td>\n",
       "      <td>2.308642</td>\n",
       "      <td>32.204366</td>\n",
       "      <td>6.945006</td>\n",
       "      <td>11.333333</td>\n",
       "      <td>2.536476</td>\n",
       "      <td>0.383838</td>\n",
       "    </tr>\n",
       "    <tr>\n",
       "      <th>std</th>\n",
       "      <td>257.353842</td>\n",
       "      <td>1.309795</td>\n",
       "      <td>0.477990</td>\n",
       "      <td>17.593200</td>\n",
       "      <td>1.613459</td>\n",
       "      <td>1.361142</td>\n",
       "      <td>0.499938</td>\n",
       "      <td>0.836071</td>\n",
       "      <td>49.693414</td>\n",
       "      <td>2.061500</td>\n",
       "      <td>26.914597</td>\n",
       "      <td>0.791503</td>\n",
       "      <td>0.486592</td>\n",
       "    </tr>\n",
       "    <tr>\n",
       "      <th>min</th>\n",
       "      <td>1.000000</td>\n",
       "      <td>1.000000</td>\n",
       "      <td>0.000000</td>\n",
       "      <td>0.000000</td>\n",
       "      <td>1.000000</td>\n",
       "      <td>1.000000</td>\n",
       "      <td>0.000000</td>\n",
       "      <td>1.000000</td>\n",
       "      <td>0.000000</td>\n",
       "      <td>1.000000</td>\n",
       "      <td>0.000000</td>\n",
       "      <td>1.000000</td>\n",
       "      <td>0.000000</td>\n",
       "    </tr>\n",
       "    <tr>\n",
       "      <th>25%</th>\n",
       "      <td>223.500000</td>\n",
       "      <td>1.000000</td>\n",
       "      <td>0.000000</td>\n",
       "      <td>6.000000</td>\n",
       "      <td>1.000000</td>\n",
       "      <td>1.000000</td>\n",
       "      <td>0.000000</td>\n",
       "      <td>2.000000</td>\n",
       "      <td>7.910000</td>\n",
       "      <td>8.000000</td>\n",
       "      <td>0.000000</td>\n",
       "      <td>2.000000</td>\n",
       "      <td>0.000000</td>\n",
       "    </tr>\n",
       "    <tr>\n",
       "      <th>50%</th>\n",
       "      <td>446.000000</td>\n",
       "      <td>1.000000</td>\n",
       "      <td>0.000000</td>\n",
       "      <td>24.000000</td>\n",
       "      <td>1.000000</td>\n",
       "      <td>1.000000</td>\n",
       "      <td>1.000000</td>\n",
       "      <td>3.000000</td>\n",
       "      <td>14.450000</td>\n",
       "      <td>8.000000</td>\n",
       "      <td>0.000000</td>\n",
       "      <td>3.000000</td>\n",
       "      <td>0.000000</td>\n",
       "    </tr>\n",
       "    <tr>\n",
       "      <th>75%</th>\n",
       "      <td>668.500000</td>\n",
       "      <td>3.000000</td>\n",
       "      <td>1.000000</td>\n",
       "      <td>35.000000</td>\n",
       "      <td>2.000000</td>\n",
       "      <td>2.000000</td>\n",
       "      <td>1.000000</td>\n",
       "      <td>3.000000</td>\n",
       "      <td>31.000000</td>\n",
       "      <td>8.000000</td>\n",
       "      <td>0.000000</td>\n",
       "      <td>3.000000</td>\n",
       "      <td>1.000000</td>\n",
       "    </tr>\n",
       "    <tr>\n",
       "      <th>max</th>\n",
       "      <td>891.000000</td>\n",
       "      <td>5.000000</td>\n",
       "      <td>1.000000</td>\n",
       "      <td>80.000000</td>\n",
       "      <td>11.000000</td>\n",
       "      <td>7.000000</td>\n",
       "      <td>1.000000</td>\n",
       "      <td>3.000000</td>\n",
       "      <td>512.330000</td>\n",
       "      <td>8.000000</td>\n",
       "      <td>148.000000</td>\n",
       "      <td>3.000000</td>\n",
       "      <td>1.000000</td>\n",
       "    </tr>\n",
       "  </tbody>\n",
       "</table>\n",
       "</div>"
      ],
      "text/plain": [
       "               ID       Title         Sex         Age  FamilySize   GroupSize  \\\n",
       "count  891.000000  891.000000  891.000000  891.000000  891.000000  891.000000   \n",
       "mean   446.000000    1.964085    0.352413   23.794613    1.904602    1.787879   \n",
       "std    257.353842    1.309795    0.477990   17.593200    1.613459    1.361142   \n",
       "min      1.000000    1.000000    0.000000    0.000000    1.000000    1.000000   \n",
       "25%    223.500000    1.000000    0.000000    6.000000    1.000000    1.000000   \n",
       "50%    446.000000    1.000000    0.000000   24.000000    1.000000    1.000000   \n",
       "75%    668.500000    3.000000    1.000000   35.000000    2.000000    2.000000   \n",
       "max    891.000000    5.000000    1.000000   80.000000   11.000000    7.000000   \n",
       "\n",
       "          IsAlone       Class        Fare        Deck       Cabin    Embarked  \\\n",
       "count  891.000000  891.000000  891.000000  891.000000  891.000000  891.000000   \n",
       "mean     0.518519    2.308642   32.204366    6.945006   11.333333    2.536476   \n",
       "std      0.499938    0.836071   49.693414    2.061500   26.914597    0.791503   \n",
       "min      0.000000    1.000000    0.000000    1.000000    0.000000    1.000000   \n",
       "25%      0.000000    2.000000    7.910000    8.000000    0.000000    2.000000   \n",
       "50%      1.000000    3.000000   14.450000    8.000000    0.000000    3.000000   \n",
       "75%      1.000000    3.000000   31.000000    8.000000    0.000000    3.000000   \n",
       "max      1.000000    3.000000  512.330000    8.000000  148.000000    3.000000   \n",
       "\n",
       "         Survived  \n",
       "count  891.000000  \n",
       "mean     0.383838  \n",
       "std      0.486592  \n",
       "min      0.000000  \n",
       "25%      0.000000  \n",
       "50%      0.000000  \n",
       "75%      1.000000  \n",
       "max      1.000000  "
      ]
     },
     "execution_count": 188,
     "metadata": {},
     "output_type": "execute_result"
    },
    {
     "data": {
      "text/html": [
       "<div>\n",
       "<style scoped>\n",
       "    .dataframe tbody tr th:only-of-type {\n",
       "        vertical-align: middle;\n",
       "    }\n",
       "\n",
       "    .dataframe tbody tr th {\n",
       "        vertical-align: top;\n",
       "    }\n",
       "\n",
       "    .dataframe thead th {\n",
       "        text-align: right;\n",
       "    }\n",
       "</style>\n",
       "<table border=\"1\" class=\"dataframe\">\n",
       "  <thead>\n",
       "    <tr style=\"text-align: right;\">\n",
       "      <th></th>\n",
       "      <th>ID</th>\n",
       "      <th>Title</th>\n",
       "      <th>Sex</th>\n",
       "      <th>Age</th>\n",
       "      <th>FamilySize</th>\n",
       "      <th>GroupSize</th>\n",
       "      <th>IsAlone</th>\n",
       "      <th>Class</th>\n",
       "      <th>Fare</th>\n",
       "      <th>Deck</th>\n",
       "      <th>Cabin</th>\n",
       "      <th>Embarked</th>\n",
       "    </tr>\n",
       "  </thead>\n",
       "  <tbody>\n",
       "    <tr>\n",
       "      <th>50</th>\n",
       "      <td>942</td>\n",
       "      <td>1</td>\n",
       "      <td>0</td>\n",
       "      <td>24</td>\n",
       "      <td>2</td>\n",
       "      <td>2</td>\n",
       "      <td>0</td>\n",
       "      <td>1</td>\n",
       "      <td>60.00</td>\n",
       "      <td>3</td>\n",
       "      <td>31</td>\n",
       "      <td>3</td>\n",
       "    </tr>\n",
       "    <tr>\n",
       "      <th>115</th>\n",
       "      <td>1007</td>\n",
       "      <td>1</td>\n",
       "      <td>0</td>\n",
       "      <td>18</td>\n",
       "      <td>2</td>\n",
       "      <td>1</td>\n",
       "      <td>0</td>\n",
       "      <td>3</td>\n",
       "      <td>14.45</td>\n",
       "      <td>8</td>\n",
       "      <td>0</td>\n",
       "      <td>1</td>\n",
       "    </tr>\n",
       "    <tr>\n",
       "      <th>126</th>\n",
       "      <td>1018</td>\n",
       "      <td>1</td>\n",
       "      <td>0</td>\n",
       "      <td>22</td>\n",
       "      <td>1</td>\n",
       "      <td>1</td>\n",
       "      <td>1</td>\n",
       "      <td>3</td>\n",
       "      <td>7.80</td>\n",
       "      <td>8</td>\n",
       "      <td>0</td>\n",
       "      <td>3</td>\n",
       "    </tr>\n",
       "  </tbody>\n",
       "</table>\n",
       "</div>"
      ],
      "text/plain": [
       "       ID  Title  Sex  Age  FamilySize  GroupSize  IsAlone  Class   Fare  \\\n",
       "50    942      1    0   24           2          2        0      1  60.00   \n",
       "115  1007      1    0   18           2          1        0      3  14.45   \n",
       "126  1018      1    0   22           1          1        1      3   7.80   \n",
       "\n",
       "     Deck  Cabin  Embarked  \n",
       "50      3     31         3  \n",
       "115     8      0         1  \n",
       "126     8      0         3  "
      ]
     },
     "execution_count": 188,
     "metadata": {},
     "output_type": "execute_result"
    },
    {
     "name": "stdout",
     "output_type": "stream",
     "text": [
      "<class 'pandas.core.frame.DataFrame'>\n",
      "RangeIndex: 418 entries, 0 to 417\n",
      "Data columns (total 12 columns):\n",
      " #   Column      Non-Null Count  Dtype  \n",
      "---  ------      --------------  -----  \n",
      " 0   ID          418 non-null    int64  \n",
      " 1   Title       418 non-null    int64  \n",
      " 2   Sex         418 non-null    int64  \n",
      " 3   Age         418 non-null    int64  \n",
      " 4   FamilySize  418 non-null    int64  \n",
      " 5   GroupSize   418 non-null    int64  \n",
      " 6   IsAlone     418 non-null    int64  \n",
      " 7   Class       418 non-null    int64  \n",
      " 8   Fare        418 non-null    float64\n",
      " 9   Deck        418 non-null    int64  \n",
      " 10  Cabin       418 non-null    int64  \n",
      " 11  Embarked    418 non-null    int64  \n",
      "dtypes: float64(1), int64(11)\n",
      "memory usage: 39.3 KB\n"
     ]
    },
    {
     "data": {
      "text/html": [
       "<div>\n",
       "<style scoped>\n",
       "    .dataframe tbody tr th:only-of-type {\n",
       "        vertical-align: middle;\n",
       "    }\n",
       "\n",
       "    .dataframe tbody tr th {\n",
       "        vertical-align: top;\n",
       "    }\n",
       "\n",
       "    .dataframe thead th {\n",
       "        text-align: right;\n",
       "    }\n",
       "</style>\n",
       "<table border=\"1\" class=\"dataframe\">\n",
       "  <thead>\n",
       "    <tr style=\"text-align: right;\">\n",
       "      <th></th>\n",
       "      <th>ID</th>\n",
       "      <th>Title</th>\n",
       "      <th>Sex</th>\n",
       "      <th>Age</th>\n",
       "      <th>FamilySize</th>\n",
       "      <th>GroupSize</th>\n",
       "      <th>IsAlone</th>\n",
       "      <th>Class</th>\n",
       "      <th>Fare</th>\n",
       "      <th>Deck</th>\n",
       "      <th>Cabin</th>\n",
       "      <th>Embarked</th>\n",
       "    </tr>\n",
       "  </thead>\n",
       "  <tbody>\n",
       "    <tr>\n",
       "      <th>count</th>\n",
       "      <td>418.000000</td>\n",
       "      <td>418.000000</td>\n",
       "      <td>418.000000</td>\n",
       "      <td>418.000000</td>\n",
       "      <td>418.000000</td>\n",
       "      <td>418.000000</td>\n",
       "      <td>418.000000</td>\n",
       "      <td>418.000000</td>\n",
       "      <td>418.000000</td>\n",
       "      <td>418.000000</td>\n",
       "      <td>418.000000</td>\n",
       "      <td>418.000000</td>\n",
       "    </tr>\n",
       "    <tr>\n",
       "      <th>mean</th>\n",
       "      <td>1100.500000</td>\n",
       "      <td>1.899522</td>\n",
       "      <td>0.363636</td>\n",
       "      <td>24.028708</td>\n",
       "      <td>1.839713</td>\n",
       "      <td>1.349282</td>\n",
       "      <td>0.555024</td>\n",
       "      <td>2.265550</td>\n",
       "      <td>35.627344</td>\n",
       "      <td>6.976077</td>\n",
       "      <td>10.145933</td>\n",
       "      <td>2.401914</td>\n",
       "    </tr>\n",
       "    <tr>\n",
       "      <th>std</th>\n",
       "      <td>120.810458</td>\n",
       "      <td>1.230878</td>\n",
       "      <td>0.481622</td>\n",
       "      <td>17.593168</td>\n",
       "      <td>1.519072</td>\n",
       "      <td>0.757069</td>\n",
       "      <td>0.497559</td>\n",
       "      <td>0.841838</td>\n",
       "      <td>55.840762</td>\n",
       "      <td>2.048431</td>\n",
       "      <td>24.117523</td>\n",
       "      <td>0.854496</td>\n",
       "    </tr>\n",
       "    <tr>\n",
       "      <th>min</th>\n",
       "      <td>892.000000</td>\n",
       "      <td>1.000000</td>\n",
       "      <td>0.000000</td>\n",
       "      <td>0.000000</td>\n",
       "      <td>1.000000</td>\n",
       "      <td>1.000000</td>\n",
       "      <td>0.000000</td>\n",
       "      <td>1.000000</td>\n",
       "      <td>0.000000</td>\n",
       "      <td>1.000000</td>\n",
       "      <td>0.000000</td>\n",
       "      <td>1.000000</td>\n",
       "    </tr>\n",
       "    <tr>\n",
       "      <th>25%</th>\n",
       "      <td>996.250000</td>\n",
       "      <td>1.000000</td>\n",
       "      <td>0.000000</td>\n",
       "      <td>9.000000</td>\n",
       "      <td>1.000000</td>\n",
       "      <td>1.000000</td>\n",
       "      <td>0.000000</td>\n",
       "      <td>1.000000</td>\n",
       "      <td>7.900000</td>\n",
       "      <td>8.000000</td>\n",
       "      <td>0.000000</td>\n",
       "      <td>2.000000</td>\n",
       "    </tr>\n",
       "    <tr>\n",
       "      <th>50%</th>\n",
       "      <td>1100.500000</td>\n",
       "      <td>1.000000</td>\n",
       "      <td>0.000000</td>\n",
       "      <td>24.000000</td>\n",
       "      <td>1.000000</td>\n",
       "      <td>1.000000</td>\n",
       "      <td>1.000000</td>\n",
       "      <td>3.000000</td>\n",
       "      <td>14.450000</td>\n",
       "      <td>8.000000</td>\n",
       "      <td>0.000000</td>\n",
       "      <td>3.000000</td>\n",
       "    </tr>\n",
       "    <tr>\n",
       "      <th>75%</th>\n",
       "      <td>1204.750000</td>\n",
       "      <td>3.000000</td>\n",
       "      <td>1.000000</td>\n",
       "      <td>35.750000</td>\n",
       "      <td>2.000000</td>\n",
       "      <td>1.000000</td>\n",
       "      <td>1.000000</td>\n",
       "      <td>3.000000</td>\n",
       "      <td>31.500000</td>\n",
       "      <td>8.000000</td>\n",
       "      <td>0.000000</td>\n",
       "      <td>3.000000</td>\n",
       "    </tr>\n",
       "    <tr>\n",
       "      <th>max</th>\n",
       "      <td>1309.000000</td>\n",
       "      <td>5.000000</td>\n",
       "      <td>1.000000</td>\n",
       "      <td>76.000000</td>\n",
       "      <td>11.000000</td>\n",
       "      <td>5.000000</td>\n",
       "      <td>1.000000</td>\n",
       "      <td>3.000000</td>\n",
       "      <td>512.330000</td>\n",
       "      <td>8.000000</td>\n",
       "      <td>132.000000</td>\n",
       "      <td>3.000000</td>\n",
       "    </tr>\n",
       "  </tbody>\n",
       "</table>\n",
       "</div>"
      ],
      "text/plain": [
       "                ID       Title         Sex         Age  FamilySize  \\\n",
       "count   418.000000  418.000000  418.000000  418.000000  418.000000   \n",
       "mean   1100.500000    1.899522    0.363636   24.028708    1.839713   \n",
       "std     120.810458    1.230878    0.481622   17.593168    1.519072   \n",
       "min     892.000000    1.000000    0.000000    0.000000    1.000000   \n",
       "25%     996.250000    1.000000    0.000000    9.000000    1.000000   \n",
       "50%    1100.500000    1.000000    0.000000   24.000000    1.000000   \n",
       "75%    1204.750000    3.000000    1.000000   35.750000    2.000000   \n",
       "max    1309.000000    5.000000    1.000000   76.000000   11.000000   \n",
       "\n",
       "        GroupSize     IsAlone       Class        Fare        Deck       Cabin  \\\n",
       "count  418.000000  418.000000  418.000000  418.000000  418.000000  418.000000   \n",
       "mean     1.349282    0.555024    2.265550   35.627344    6.976077   10.145933   \n",
       "std      0.757069    0.497559    0.841838   55.840762    2.048431   24.117523   \n",
       "min      1.000000    0.000000    1.000000    0.000000    1.000000    0.000000   \n",
       "25%      1.000000    0.000000    1.000000    7.900000    8.000000    0.000000   \n",
       "50%      1.000000    1.000000    3.000000   14.450000    8.000000    0.000000   \n",
       "75%      1.000000    1.000000    3.000000   31.500000    8.000000    0.000000   \n",
       "max      5.000000    1.000000    3.000000  512.330000    8.000000  132.000000   \n",
       "\n",
       "         Embarked  \n",
       "count  418.000000  \n",
       "mean     2.401914  \n",
       "std      0.854496  \n",
       "min      1.000000  \n",
       "25%      2.000000  \n",
       "50%      3.000000  \n",
       "75%      3.000000  \n",
       "max      3.000000  "
      ]
     },
     "execution_count": 188,
     "metadata": {},
     "output_type": "execute_result"
    }
   ],
   "source": [
    "# QA check\n",
    "for dataset in combine:\n",
    "    dataset.sample(3)\n",
    "    dataset.info()\n",
    "    dataset.describe()"
   ]
  },
  {
   "cell_type": "markdown",
   "metadata": {},
   "source": [
    "### Re-visiting NULLS\n",
    "I still need to deal with incompleteness in 'Age', 'Deck', and 'Cabin'.  However, without a strong understand of how these features are correlated with other features, my generated values will be purely random and hurt model performance. I will return to this after 2.3."
   ]
  },
  {
   "cell_type": "markdown",
   "metadata": {},
   "source": [
    "## 2.3. Explore Bivariate Relationships\n",
    "### Correlation Matrix"
   ]
  },
  {
   "cell_type": "code",
   "execution_count": 189,
   "metadata": {},
   "outputs": [
    {
     "data": {
      "text/plain": [
       "<matplotlib.axes._subplots.AxesSubplot at 0x288f94c16c8>"
      ]
     },
     "execution_count": 189,
     "metadata": {},
     "output_type": "execute_result"
    },
    {
     "data": {
      "text/plain": [
       "Text(0.5, 1.0, 'Correlation Heatmap')"
      ]
     },
     "execution_count": 189,
     "metadata": {},
     "output_type": "execute_result"
    },
    {
     "data": {
      "image/png": "[encoded data removed]",
      "text/plain": [
       "<Figure size 504x504 with 2 Axes>"
      ]
     },
     "metadata": {},
     "output_type": "display_data"
    }
   ],
   "source": [
    "# correlation heatmap\n",
    "params = ['Survived', 'Title', 'Sex', 'Age', 'FamilySize', 'GroupSize', 'IsAlone', 'Class', 'Fare', 'Deck', 'Cabin', 'Embarked']\n",
    "coefs = np.corrcoef(train_df[params].values.T)\n",
    "mask = np.zeros_like(coefs)\n",
    "mask[np.triu_indices_from(mask, 1)] = True\n",
    "with sns.axes_style('white'):\n",
    "    f, ax = plt.subplots(figsize=(7, 7))\n",
    "    sns.set(font_scale=1.2)\n",
    "    sns.heatmap(coefs, cmap='RdBu', cbar=True, annot=False, square=True, fmt='.1f', annot_kws={'size':12},\n",
    "               yticklabels=params, xticklabels=params, linewidths=3, linecolor='white', mask=mask)\n",
    "    ax.set_title('Correlation Heatmap', fontsize=16)"
   ]
  },
  {
   "cell_type": "markdown",
   "metadata": {},
   "source": [
    "Correlated Features\n",
    "- Survived x Sex\n",
    "- PartySize x IsAlone\n",
    "- Class x Cabin, Deck, Fare\n",
    "- Fare x Deck\n",
    "- Deck x Cabin\n",
    "\n",
    "'Deck' and 'Cabin' are correlated because they are equally incomplete. How do they relate to the target variable, 'Survived'? "
   ]
  },
  {
   "cell_type": "code",
   "execution_count": 190,
   "metadata": {},
   "outputs": [],
   "source": [
    "# create subset where 'Cabin' is known\n",
    "cabin_df = train_df[train_df['Deck'] != 8]"
   ]
  },
  {
   "cell_type": "code",
   "execution_count": 191,
   "metadata": {
    "scrolled": false
   },
   "outputs": [
    {
     "data": {
      "text/plain": [
       "<matplotlib.axes._subplots.AxesSubplot at 0x288f94b46c8>"
      ]
     },
     "execution_count": 191,
     "metadata": {},
     "output_type": "execute_result"
    },
    {
     "data": {
      "text/plain": [
       "Text(0.5, 1.0, 'Survival by Cabin Assignment')"
      ]
     },
     "execution_count": 191,
     "metadata": {},
     "output_type": "execute_result"
    },
    {
     "data": {
      "image/png": "[encoded data removed]",
      "text/plain": [
       "<Figure size 504x432 with 1 Axes>"
      ]
     },
     "metadata": {},
     "output_type": "display_data"
    }
   ],
   "source": [
    "# create swarmplot\n",
    "fig, ax = plt.subplots(figsize=(7, 6))\n",
    "sns.swarmplot(x='Deck', y='Cabin', hue='Survived', palette=cmap1, data=cabin_df)\n",
    "ax.set_title('Survival by Cabin Assignment', fontsize=16)"
   ]
  },
  {
   "cell_type": "markdown",
   "metadata": {},
   "source": [
    "Even amongst passengers where cabin assignment is known, there is no clear relationship with 'Survived'. Given that cabin assignment is unknown for ~80% of passengers, this feature should be excluded from modeling."
   ]
  },
  {
   "cell_type": "code",
   "execution_count": 192,
   "metadata": {},
   "outputs": [],
   "source": [
    "# drop 'Deck' and 'Cabin'\n",
    "for dataset in combine:\n",
    "    dataset.drop(columns=['Deck', 'Cabin'], inplace=True)"
   ]
  },
  {
   "cell_type": "markdown",
   "metadata": {},
   "source": [
    "'PartySize' and 'GroupSize' are correlated with 'IsAlone' because they were used to create it. How do they each relate to the target variable, 'Survived'?"
   ]
  },
  {
   "cell_type": "code",
   "execution_count": 193,
   "metadata": {
    "scrolled": false
   },
   "outputs": [
    {
     "data": {
      "text/plain": [
       "<matplotlib.axes._subplots.AxesSubplot at 0x288f9766448>"
      ]
     },
     "execution_count": 193,
     "metadata": {},
     "output_type": "execute_result"
    },
    {
     "data": {
      "text/plain": [
       "Text(0.5, 1.0, 'Survival by IsAlone')"
      ]
     },
     "execution_count": 193,
     "metadata": {},
     "output_type": "execute_result"
    },
    {
     "data": {
      "text/plain": [
       "<matplotlib.axes._subplots.AxesSubplot at 0x288f978fc48>"
      ]
     },
     "execution_count": 193,
     "metadata": {},
     "output_type": "execute_result"
    },
    {
     "data": {
      "text/plain": [
       "Text(0.5, 1.0, 'Survival by Family Size')"
      ]
     },
     "execution_count": 193,
     "metadata": {},
     "output_type": "execute_result"
    },
    {
     "data": {
      "text/plain": [
       "<matplotlib.axes._subplots.AxesSubplot at 0x288f9803e48>"
      ]
     },
     "execution_count": 193,
     "metadata": {},
     "output_type": "execute_result"
    },
    {
     "data": {
      "text/plain": [
       "Text(0.5, 1.0, 'Survival by Group Size')"
      ]
     },
     "execution_count": 193,
     "metadata": {},
     "output_type": "execute_result"
    },
    {
     "data": {
      "image/png": "[encoded data removed]",
      "text/plain": [
       "<Figure size 1080x360 with 3 Axes>"
      ]
     },
     "metadata": {},
     "output_type": "display_data"
    }
   ],
   "source": [
    "sns.set(font_scale=1.2)\n",
    "sns.set_style('white')\n",
    "fig, (ax1, ax2, ax3) = plt.subplots(ncols=3, sharey=True, figsize=(15, 5))\n",
    "sns.barplot(x='IsAlone', y='Survived', data=train_df, ci=None, palette=cmap1, ax=ax1)\n",
    "ax1.set_title('Survival by IsAlone', fontsize=15)\n",
    "sns.barplot(x='FamilySize', y='Survived', data=train_df, ci=None, palette=cmap1, ax=ax2)\n",
    "ax2.set_title('Survival by Family Size', fontsize=15)\n",
    "sns.barplot(x='GroupSize', y='Survived', data=train_df, ci=None, palette=cmap1, ax=ax3)\n",
    "ax3.set_title('Survival by Group Size', fontsize=15)"
   ]
  },
  {
   "cell_type": "markdown",
   "metadata": {},
   "source": [
    "Being alone or in a large party decreased your chance of surviving. A more meaningful designation may be a single feature, 'Connections', binned as \"None\" (1), \"Some\" (2-4), and \"Many\" (>4)."
   ]
  },
  {
   "cell_type": "code",
   "execution_count": 194,
   "metadata": {},
   "outputs": [],
   "source": [
    "# create 'Connections'\n",
    "for dataset in combine:\n",
    "    dataset['Connections'] = 0\n",
    "    dataset.loc[dataset['IsAlone'] == 1, 'Connections'] = 1 # alone\n",
    "    dataset.loc[dataset['IsAlone'] == 0, 'Connections'] = 2 # some connections\n",
    "    dataset.loc[(dataset['FamilySize'] > 4) | (dataset['GroupSize'] > 4), 'Connections'] = 3 # many connections"
   ]
  },
  {
   "cell_type": "code",
   "execution_count": 195,
   "metadata": {},
   "outputs": [
    {
     "data": {
      "text/plain": [
       "Text(0.5, 1.0, 'Survival by Connections (binned)')"
      ]
     },
     "execution_count": 195,
     "metadata": {},
     "output_type": "execute_result"
    },
    {
     "data": {
      "image/png": "[encoded data removed]",
      "text/plain": [
       "<Figure size 432x360 with 1 Axes>"
      ]
     },
     "metadata": {},
     "output_type": "display_data"
    }
   ],
   "source": [
    "sns.set(font_scale=1.2)\n",
    "sns.set_style('white')\n",
    "fig, ax = plt.subplots(figsize=(6, 5))\n",
    "ax = sns.barplot(x='Connections', y='Survived', data=train_df, palette=cmap1)\n",
    "ax.set_title('Survival by Connections (binned)', fontsize=16)"
   ]
  },
  {
   "cell_type": "markdown",
   "metadata": {},
   "source": [
    "'Connections' appears to be a strong substitute so I can drop 'FamilySize' and 'IsAlone' from analysis. I will keep 'GroupSize' to adjust 'Fare' later."
   ]
  },
  {
   "cell_type": "code",
   "execution_count": 196,
   "metadata": {},
   "outputs": [],
   "source": [
    "# drop 'FamilySize' and 'IsAlone'\n",
    "for dataset in combine:\n",
    "    dataset.drop(columns=['FamilySize', 'IsAlone'], inplace=True)"
   ]
  },
  {
   "cell_type": "markdown",
   "metadata": {},
   "source": [
    "### Meaningful Correlations\n",
    "- Survived x Sex\n",
    "- Class x Fare\n",
    "\n",
    "NOTE: Correlations only pick up on linear relationships."
   ]
  },
  {
   "cell_type": "code",
   "execution_count": 197,
   "metadata": {
    "scrolled": false
   },
   "outputs": [
    {
     "data": {
      "text/plain": [
       "Text(0.5, 1.0, 'Survival Rate by Sex')"
      ]
     },
     "execution_count": 197,
     "metadata": {},
     "output_type": "execute_result"
    },
    {
     "data": {
      "image/png": "[encoded data removed]",
      "text/plain": [
       "<Figure size 432x288 with 1 Axes>"
      ]
     },
     "metadata": {},
     "output_type": "display_data"
    }
   ],
   "source": [
    "# SURVIVED x SEX\n",
    "ax = sns.barplot(x='Sex', y='Survived', data=train_df, palette=cmap1)\n",
    "ax.set_title('Survival Rate by Sex', fontsize=16)"
   ]
  },
  {
   "cell_type": "code",
   "execution_count": 198,
   "metadata": {},
   "outputs": [
    {
     "data": {
      "text/plain": [
       "Text(0.5, 1.0, 'Fare by Economic Class')"
      ]
     },
     "execution_count": 198,
     "metadata": {},
     "output_type": "execute_result"
    },
    {
     "data": {
      "image/png": "[encoded data removed]",
      "text/plain": [
       "<Figure size 432x288 with 1 Axes>"
      ]
     },
     "metadata": {},
     "output_type": "display_data"
    }
   ],
   "source": [
    "# CLASS x FARE\n",
    "ax = sns.boxplot(x='Class', y='Fare', data=train_df, width=0.7, palette=cmap1)\n",
    "ax.set_title('Fare by Economic Class', fontsize=16)"
   ]
  },
  {
   "cell_type": "markdown",
   "metadata": {},
   "source": [
    "I remembered from earlier that 'Fare' is extremely right-skewed. I also remembered that 'Fare' may be impacted by shared tickets. I want to fix both of these issues and try plotting this relationship again."
   ]
  },
  {
   "cell_type": "code",
   "execution_count": 199,
   "metadata": {},
   "outputs": [],
   "source": [
    "# account for shared tickets\n",
    "for dataset in combine:\n",
    "    dataset['Adj_Fare'] = dataset['Fare']/dataset['GroupSize']"
   ]
  },
  {
   "cell_type": "code",
   "execution_count": 200,
   "metadata": {},
   "outputs": [],
   "source": [
    "# transform 'Fare' and 'Adj_Fare'\n",
    "for dataset in combine:\n",
    "    dataset['Adj_Fare(log)'] = np.log1p(dataset['Adj_Fare'])\n",
    "    dataset['Fare(log)'] = np.log1p(dataset['Fare'])"
   ]
  },
  {
   "cell_type": "code",
   "execution_count": 201,
   "metadata": {},
   "outputs": [
    {
     "data": {
      "text/plain": [
       "Text(0.5, 1.0, 'Fare by Economic Class')"
      ]
     },
     "execution_count": 201,
     "metadata": {},
     "output_type": "execute_result"
    },
    {
     "data": {
      "image/png": "[encoded data removed]",
      "text/plain": [
       "<Figure size 432x288 with 1 Axes>"
      ]
     },
     "metadata": {},
     "output_type": "display_data"
    }
   ],
   "source": [
    "# CLASS x ADJ_FARE(log)\n",
    "ax = sns.boxplot(x='Class', y='Adj_Fare(log)', data=train_df, width=0.7, palette=cmap1)\n",
    "ax.set_title('Fare by Economic Class', fontsize=16)"
   ]
  },
  {
   "cell_type": "markdown",
   "metadata": {},
   "source": [
    "'Fare' was more uniform for 2nd and 3rd class passengers than for 1st class passengers. I noticed that quite a few passengers had a 'Fare' of $0.00."
   ]
  },
  {
   "cell_type": "code",
   "execution_count": 202,
   "metadata": {
    "scrolled": false
   },
   "outputs": [
    {
     "data": {
      "text/html": [
       "<div>\n",
       "<style scoped>\n",
       "    .dataframe tbody tr th:only-of-type {\n",
       "        vertical-align: middle;\n",
       "    }\n",
       "\n",
       "    .dataframe tbody tr th {\n",
       "        vertical-align: top;\n",
       "    }\n",
       "\n",
       "    .dataframe thead th {\n",
       "        text-align: right;\n",
       "    }\n",
       "</style>\n",
       "<table border=\"1\" class=\"dataframe\">\n",
       "  <thead>\n",
       "    <tr style=\"text-align: right;\">\n",
       "      <th></th>\n",
       "      <th>ID</th>\n",
       "      <th>Title</th>\n",
       "      <th>Sex</th>\n",
       "      <th>Age</th>\n",
       "      <th>GroupSize</th>\n",
       "      <th>Class</th>\n",
       "      <th>Fare</th>\n",
       "      <th>Embarked</th>\n",
       "      <th>Survived</th>\n",
       "      <th>Connections</th>\n",
       "      <th>Adj_Fare</th>\n",
       "      <th>Adj_Fare(log)</th>\n",
       "      <th>Fare(log)</th>\n",
       "    </tr>\n",
       "  </thead>\n",
       "  <tbody>\n",
       "    <tr>\n",
       "      <th>179</th>\n",
       "      <td>180</td>\n",
       "      <td>1</td>\n",
       "      <td>0</td>\n",
       "      <td>36</td>\n",
       "      <td>4</td>\n",
       "      <td>3</td>\n",
       "      <td>0.0</td>\n",
       "      <td>3</td>\n",
       "      <td>0</td>\n",
       "      <td>2</td>\n",
       "      <td>0.0</td>\n",
       "      <td>0.0</td>\n",
       "      <td>0.0</td>\n",
       "    </tr>\n",
       "    <tr>\n",
       "      <th>263</th>\n",
       "      <td>264</td>\n",
       "      <td>1</td>\n",
       "      <td>0</td>\n",
       "      <td>40</td>\n",
       "      <td>1</td>\n",
       "      <td>1</td>\n",
       "      <td>0.0</td>\n",
       "      <td>3</td>\n",
       "      <td>0</td>\n",
       "      <td>1</td>\n",
       "      <td>0.0</td>\n",
       "      <td>0.0</td>\n",
       "      <td>0.0</td>\n",
       "    </tr>\n",
       "    <tr>\n",
       "      <th>271</th>\n",
       "      <td>272</td>\n",
       "      <td>1</td>\n",
       "      <td>0</td>\n",
       "      <td>25</td>\n",
       "      <td>4</td>\n",
       "      <td>3</td>\n",
       "      <td>0.0</td>\n",
       "      <td>3</td>\n",
       "      <td>1</td>\n",
       "      <td>2</td>\n",
       "      <td>0.0</td>\n",
       "      <td>0.0</td>\n",
       "      <td>0.0</td>\n",
       "    </tr>\n",
       "    <tr>\n",
       "      <th>277</th>\n",
       "      <td>278</td>\n",
       "      <td>1</td>\n",
       "      <td>0</td>\n",
       "      <td>0</td>\n",
       "      <td>3</td>\n",
       "      <td>2</td>\n",
       "      <td>0.0</td>\n",
       "      <td>3</td>\n",
       "      <td>0</td>\n",
       "      <td>2</td>\n",
       "      <td>0.0</td>\n",
       "      <td>0.0</td>\n",
       "      <td>0.0</td>\n",
       "    </tr>\n",
       "    <tr>\n",
       "      <th>302</th>\n",
       "      <td>303</td>\n",
       "      <td>1</td>\n",
       "      <td>0</td>\n",
       "      <td>19</td>\n",
       "      <td>4</td>\n",
       "      <td>3</td>\n",
       "      <td>0.0</td>\n",
       "      <td>3</td>\n",
       "      <td>0</td>\n",
       "      <td>2</td>\n",
       "      <td>0.0</td>\n",
       "      <td>0.0</td>\n",
       "      <td>0.0</td>\n",
       "    </tr>\n",
       "    <tr>\n",
       "      <th>413</th>\n",
       "      <td>414</td>\n",
       "      <td>1</td>\n",
       "      <td>0</td>\n",
       "      <td>0</td>\n",
       "      <td>3</td>\n",
       "      <td>2</td>\n",
       "      <td>0.0</td>\n",
       "      <td>3</td>\n",
       "      <td>0</td>\n",
       "      <td>2</td>\n",
       "      <td>0.0</td>\n",
       "      <td>0.0</td>\n",
       "      <td>0.0</td>\n",
       "    </tr>\n",
       "    <tr>\n",
       "      <th>466</th>\n",
       "      <td>467</td>\n",
       "      <td>1</td>\n",
       "      <td>0</td>\n",
       "      <td>0</td>\n",
       "      <td>3</td>\n",
       "      <td>2</td>\n",
       "      <td>0.0</td>\n",
       "      <td>3</td>\n",
       "      <td>0</td>\n",
       "      <td>2</td>\n",
       "      <td>0.0</td>\n",
       "      <td>0.0</td>\n",
       "      <td>0.0</td>\n",
       "    </tr>\n",
       "    <tr>\n",
       "      <th>481</th>\n",
       "      <td>482</td>\n",
       "      <td>1</td>\n",
       "      <td>0</td>\n",
       "      <td>0</td>\n",
       "      <td>1</td>\n",
       "      <td>2</td>\n",
       "      <td>0.0</td>\n",
       "      <td>3</td>\n",
       "      <td>0</td>\n",
       "      <td>1</td>\n",
       "      <td>0.0</td>\n",
       "      <td>0.0</td>\n",
       "      <td>0.0</td>\n",
       "    </tr>\n",
       "    <tr>\n",
       "      <th>597</th>\n",
       "      <td>598</td>\n",
       "      <td>1</td>\n",
       "      <td>0</td>\n",
       "      <td>49</td>\n",
       "      <td>4</td>\n",
       "      <td>3</td>\n",
       "      <td>0.0</td>\n",
       "      <td>3</td>\n",
       "      <td>0</td>\n",
       "      <td>2</td>\n",
       "      <td>0.0</td>\n",
       "      <td>0.0</td>\n",
       "      <td>0.0</td>\n",
       "    </tr>\n",
       "    <tr>\n",
       "      <th>633</th>\n",
       "      <td>634</td>\n",
       "      <td>1</td>\n",
       "      <td>0</td>\n",
       "      <td>0</td>\n",
       "      <td>1</td>\n",
       "      <td>1</td>\n",
       "      <td>0.0</td>\n",
       "      <td>3</td>\n",
       "      <td>0</td>\n",
       "      <td>1</td>\n",
       "      <td>0.0</td>\n",
       "      <td>0.0</td>\n",
       "      <td>0.0</td>\n",
       "    </tr>\n",
       "    <tr>\n",
       "      <th>674</th>\n",
       "      <td>675</td>\n",
       "      <td>1</td>\n",
       "      <td>0</td>\n",
       "      <td>0</td>\n",
       "      <td>1</td>\n",
       "      <td>2</td>\n",
       "      <td>0.0</td>\n",
       "      <td>3</td>\n",
       "      <td>0</td>\n",
       "      <td>1</td>\n",
       "      <td>0.0</td>\n",
       "      <td>0.0</td>\n",
       "      <td>0.0</td>\n",
       "    </tr>\n",
       "    <tr>\n",
       "      <th>732</th>\n",
       "      <td>733</td>\n",
       "      <td>1</td>\n",
       "      <td>0</td>\n",
       "      <td>0</td>\n",
       "      <td>1</td>\n",
       "      <td>2</td>\n",
       "      <td>0.0</td>\n",
       "      <td>3</td>\n",
       "      <td>0</td>\n",
       "      <td>1</td>\n",
       "      <td>0.0</td>\n",
       "      <td>0.0</td>\n",
       "      <td>0.0</td>\n",
       "    </tr>\n",
       "    <tr>\n",
       "      <th>806</th>\n",
       "      <td>807</td>\n",
       "      <td>1</td>\n",
       "      <td>0</td>\n",
       "      <td>39</td>\n",
       "      <td>1</td>\n",
       "      <td>1</td>\n",
       "      <td>0.0</td>\n",
       "      <td>3</td>\n",
       "      <td>0</td>\n",
       "      <td>1</td>\n",
       "      <td>0.0</td>\n",
       "      <td>0.0</td>\n",
       "      <td>0.0</td>\n",
       "    </tr>\n",
       "    <tr>\n",
       "      <th>815</th>\n",
       "      <td>816</td>\n",
       "      <td>1</td>\n",
       "      <td>0</td>\n",
       "      <td>0</td>\n",
       "      <td>1</td>\n",
       "      <td>1</td>\n",
       "      <td>0.0</td>\n",
       "      <td>3</td>\n",
       "      <td>0</td>\n",
       "      <td>1</td>\n",
       "      <td>0.0</td>\n",
       "      <td>0.0</td>\n",
       "      <td>0.0</td>\n",
       "    </tr>\n",
       "    <tr>\n",
       "      <th>822</th>\n",
       "      <td>823</td>\n",
       "      <td>5</td>\n",
       "      <td>0</td>\n",
       "      <td>38</td>\n",
       "      <td>1</td>\n",
       "      <td>1</td>\n",
       "      <td>0.0</td>\n",
       "      <td>3</td>\n",
       "      <td>0</td>\n",
       "      <td>1</td>\n",
       "      <td>0.0</td>\n",
       "      <td>0.0</td>\n",
       "      <td>0.0</td>\n",
       "    </tr>\n",
       "  </tbody>\n",
       "</table>\n",
       "</div>"
      ],
      "text/plain": [
       "      ID  Title  Sex  Age  GroupSize  Class  Fare  Embarked  Survived  \\\n",
       "179  180      1    0   36          4      3   0.0         3         0   \n",
       "263  264      1    0   40          1      1   0.0         3         0   \n",
       "271  272      1    0   25          4      3   0.0         3         1   \n",
       "277  278      1    0    0          3      2   0.0         3         0   \n",
       "302  303      1    0   19          4      3   0.0         3         0   \n",
       "413  414      1    0    0          3      2   0.0         3         0   \n",
       "466  467      1    0    0          3      2   0.0         3         0   \n",
       "481  482      1    0    0          1      2   0.0         3         0   \n",
       "597  598      1    0   49          4      3   0.0         3         0   \n",
       "633  634      1    0    0          1      1   0.0         3         0   \n",
       "674  675      1    0    0          1      2   0.0         3         0   \n",
       "732  733      1    0    0          1      2   0.0         3         0   \n",
       "806  807      1    0   39          1      1   0.0         3         0   \n",
       "815  816      1    0    0          1      1   0.0         3         0   \n",
       "822  823      5    0   38          1      1   0.0         3         0   \n",
       "\n",
       "     Connections  Adj_Fare  Adj_Fare(log)  Fare(log)  \n",
       "179            2       0.0            0.0        0.0  \n",
       "263            1       0.0            0.0        0.0  \n",
       "271            2       0.0            0.0        0.0  \n",
       "277            2       0.0            0.0        0.0  \n",
       "302            2       0.0            0.0        0.0  \n",
       "413            2       0.0            0.0        0.0  \n",
       "466            2       0.0            0.0        0.0  \n",
       "481            1       0.0            0.0        0.0  \n",
       "597            2       0.0            0.0        0.0  \n",
       "633            1       0.0            0.0        0.0  \n",
       "674            1       0.0            0.0        0.0  \n",
       "732            1       0.0            0.0        0.0  \n",
       "806            1       0.0            0.0        0.0  \n",
       "815            1       0.0            0.0        0.0  \n",
       "822            1       0.0            0.0        0.0  "
      ]
     },
     "execution_count": 202,
     "metadata": {},
     "output_type": "execute_result"
    }
   ],
   "source": [
    "# investigate 'Fare'\n",
    "train_df[train_df['Fare'] == 0]"
   ]
  },
  {
   "cell_type": "markdown",
   "metadata": {},
   "source": [
    "I think these are crew members. They are all male, all but one died, and all of them embarked at the same place. I want to add \"Crew\" as a 4th passenger class and should consider dropping 'Fare'."
   ]
  },
  {
   "cell_type": "code",
   "execution_count": 203,
   "metadata": {},
   "outputs": [
    {
     "data": {
      "text/plain": [
       "3    487\n",
       "1    211\n",
       "2    178\n",
       "4     15\n",
       "Name: Class, dtype: int64"
      ]
     },
     "execution_count": 203,
     "metadata": {},
     "output_type": "execute_result"
    },
    {
     "data": {
      "text/plain": [
       "3    218\n",
       "1    105\n",
       "2     93\n",
       "4      2\n",
       "Name: Class, dtype: int64"
      ]
     },
     "execution_count": 203,
     "metadata": {},
     "output_type": "execute_result"
    }
   ],
   "source": [
    "# add \"Crew\" (4) to 'Class'\n",
    "for dataset in combine:\n",
    "    dataset.loc[dataset['Fare'] == 0, 'Class'] = 4\n",
    "    dataset['Class'].value_counts()"
   ]
  },
  {
   "cell_type": "code",
   "execution_count": 204,
   "metadata": {},
   "outputs": [
    {
     "data": {
      "text/plain": [
       "Text(0.5, 1.0, 'Survival Rate by Economic Class')"
      ]
     },
     "execution_count": 204,
     "metadata": {},
     "output_type": "execute_result"
    },
    {
     "data": {
      "image/png": "[encoded data removed]",
      "text/plain": [
       "<Figure size 432x288 with 1 Axes>"
      ]
     },
     "metadata": {},
     "output_type": "display_data"
    }
   ],
   "source": [
    "# SURVIVED x CLASS\n",
    "ax = sns.barplot(x='Class', y='Survived', data=train_df, palette=cmap1)\n",
    "ax.set_title('Survival Rate by Economic Class')"
   ]
  },
  {
   "cell_type": "code",
   "execution_count": 205,
   "metadata": {},
   "outputs": [
    {
     "data": {
      "image/png": "[encoded data removed]",
      "text/plain": [
       "<Figure size 432x288 with 1 Axes>"
      ]
     },
     "metadata": {},
     "output_type": "display_data"
    }
   ],
   "source": [
    "# SURVIVED x FARE\n",
    "ax = sns.violinplot(x='Survived', y='Adj_Fare(log)', data=train_df, palette=cmap1)"
   ]
  },
  {
   "cell_type": "markdown",
   "metadata": {},
   "source": [
    "### Hypothesized Relationships"
   ]
  },
  {
   "cell_type": "markdown",
   "metadata": {},
   "source": [
    "Correlations may not pick up all meaningful relationships. I hypothesized a few additional relationships to test.\n",
    "- Survived x Class\n",
    "- Survived x Title\n",
    "- Survived x Age"
   ]
  },
  {
   "cell_type": "code",
   "execution_count": 206,
   "metadata": {},
   "outputs": [
    {
     "data": {
      "text/plain": [
       "Text(0.5, 1.0, 'Survival Rate by Passenger Class')"
      ]
     },
     "execution_count": 206,
     "metadata": {},
     "output_type": "execute_result"
    },
    {
     "data": {
      "image/png": "[encoded data removed]",
      "text/plain": [
       "<Figure size 432x288 with 1 Axes>"
      ]
     },
     "metadata": {},
     "output_type": "display_data"
    }
   ],
   "source": [
    "# SURVIVED x CLASS\n",
    "ax = sns.barplot(x='Class', y='Survived', data=train_df, palette=cmap1)\n",
    "ax.set_title('Survival Rate by Passenger Class')"
   ]
  },
  {
   "cell_type": "code",
   "execution_count": 207,
   "metadata": {
    "scrolled": true
   },
   "outputs": [
    {
     "data": {
      "text/plain": [
       "Text(0.5, 1.0, 'Survival Rate by Title')"
      ]
     },
     "execution_count": 207,
     "metadata": {},
     "output_type": "execute_result"
    },
    {
     "data": {
      "image/png": "[encoded data removed]",
      "text/plain": [
       "<Figure size 432x288 with 1 Axes>"
      ]
     },
     "metadata": {},
     "output_type": "display_data"
    }
   ],
   "source": [
    "# SURVIVED x TITLE\n",
    "ax = sns.barplot(x='Title', y='Survived', data=train_df, palette=cmap1)\n",
    "ax.set_title('Survival Rate by Title')"
   ]
  },
  {
   "cell_type": "markdown",
   "metadata": {},
   "source": [
    "Before I plot SURVIVED x AGE, I want use features influencing 'Age' to complete the NULL values I filled with a placeholder (0) earlier on.\n",
    "- Sex\n",
    "- Title\n",
    "- Class"
   ]
  },
  {
   "cell_type": "code",
   "execution_count": 208,
   "metadata": {},
   "outputs": [],
   "source": [
    "# empty 3d matrix\n",
    "complete_age = np.zeros((2, 5, 4))\n",
    "\n",
    "# subset with REAL ages\n",
    "age_df = train_df[train_df['Age'] != 0]\n",
    "\n",
    "# complete 'Age' with group medians\n",
    "for dataset in combine:\n",
    "    for i in range(0, 2):\n",
    "        for j in range(0, 5):\n",
    "            for k in range(0, 4):\n",
    "                age_record = age_df[(age_df['Sex'] == i) & \\\n",
    "                                    (age_df['Title'] == j + 1) & \\\n",
    "                                    (age_df['Class'] == k + 1)]['Age']\n",
    "                grp_median = age_record.median()\n",
    "                if np.isnan(grp_median):\n",
    "                    grp_median = 0\n",
    "                complete_age[i, j, k] = int(grp_median)\n",
    "    for i in range(0, 2):\n",
    "        for j in range(0, 5):\n",
    "            for k in range(0, 4):\n",
    "                dataset.loc[(dataset['Age'] == 0) & \\\n",
    "                            (dataset['Sex'] == i) & \\\n",
    "                            (dataset['Title'] == j + 1) & \\\n",
    "                            (dataset['Class'] == k + 1), 'Age'] = complete_age[i, j, k]\n",
    "    dataset['Age'] = dataset['Age'].astype(int)"
   ]
  },
  {
   "cell_type": "code",
   "execution_count": 209,
   "metadata": {
    "scrolled": false
   },
   "outputs": [
    {
     "data": {
      "text/plain": [
       "0"
      ]
     },
     "execution_count": 209,
     "metadata": {},
     "output_type": "execute_result"
    },
    {
     "data": {
      "text/plain": [
       "<matplotlib.axes._subplots.AxesSubplot at 0x288fae50648>"
      ]
     },
     "execution_count": 209,
     "metadata": {},
     "output_type": "execute_result"
    },
    {
     "data": {
      "text/plain": [
       "1"
      ]
     },
     "execution_count": 209,
     "metadata": {},
     "output_type": "execute_result"
    },
    {
     "data": {
      "text/plain": [
       "<matplotlib.axes._subplots.AxesSubplot at 0x288fae50648>"
      ]
     },
     "execution_count": 209,
     "metadata": {},
     "output_type": "execute_result"
    },
    {
     "data": {
      "image/png": "[encoded data removed]",
      "text/plain": [
       "<Figure size 432x288 with 1 Axes>"
      ]
     },
     "metadata": {},
     "output_type": "display_data"
    }
   ],
   "source": [
    "# QA check\n",
    "for dataset in combine:\n",
    "    len(dataset.loc[dataset['Age'] == 0])\n",
    "    sns.distplot(dataset['Age'], color='black')"
   ]
  },
  {
   "cell_type": "code",
   "execution_count": 210,
   "metadata": {},
   "outputs": [
    {
     "data": {
      "text/plain": [
       "<matplotlib.axes._subplots.AxesSubplot at 0x288fafb8548>"
      ]
     },
     "execution_count": 210,
     "metadata": {},
     "output_type": "execute_result"
    },
    {
     "data": {
      "text/plain": [
       "Text(0.5, 1.0, 'Age Distribution by Survived')"
      ]
     },
     "execution_count": 210,
     "metadata": {},
     "output_type": "execute_result"
    },
    {
     "data": {
      "text/plain": [
       "[<matplotlib.axis.YTick at 0x288fafc7288>,\n",
       " <matplotlib.axis.YTick at 0x288fafc7e08>,\n",
       " <matplotlib.axis.YTick at 0x288fafb3f88>,\n",
       " <matplotlib.axis.YTick at 0x288fb01b5c8>,\n",
       " <matplotlib.axis.YTick at 0x288fb01e248>,\n",
       " <matplotlib.axis.YTick at 0x288faff0108>,\n",
       " <matplotlib.axis.YTick at 0x288faff0848>,\n",
       " <matplotlib.axis.YTick at 0x288fb0240c8>,\n",
       " <matplotlib.axis.YTick at 0x288fb024908>,\n",
       " <matplotlib.axis.YTick at 0x288fb029188>]"
      ]
     },
     "execution_count": 210,
     "metadata": {},
     "output_type": "execute_result"
    },
    {
     "data": {
      "text/plain": [
       "[Text(0, 0, 'No'), Text(0, 0, 'Yes')]"
      ]
     },
     "execution_count": 210,
     "metadata": {},
     "output_type": "execute_result"
    },
    {
     "data": {
      "text/plain": [
       "<matplotlib.legend.Legend at 0x288fb00a048>"
      ]
     },
     "execution_count": 210,
     "metadata": {},
     "output_type": "execute_result"
    },
    {
     "data": {
      "image/png": "[encoded data removed]",
      "text/plain": [
       "<Figure size 504x432 with 1 Axes>"
      ]
     },
     "metadata": {},
     "output_type": "display_data"
    }
   ],
   "source": [
    "# SURVIVED x AGE\n",
    "sns.set(font_scale=1.2)\n",
    "sns.set_style('white')\n",
    "fig, ax = plt.subplots(figsize=(7, 6))\n",
    "sns.violinplot(x='Survived', y='Age', hue='Sex', data=train_df, split=True, palette=cmap1, legend_out=True)\n",
    "ax.set_title('Age Distribution by Survived', fontsize=16)\n",
    "ax.set_yticks(np.arange(0, 100, 10))\n",
    "ax.set_xticklabels(labels=['No', 'Yes'])\n",
    "handles, labels = ax.get_legend_handles_labels()\n",
    "ax.legend(handles=handles, labels=['Male', 'Female'], loc=\"upper center\")"
   ]
  },
  {
   "cell_type": "markdown",
   "metadata": {},
   "source": [
    "## 2.4. Explore Multivariate Relationships\n",
    "I had a good understanding of the dataset at this point and could have moved onto modeling, but I had a few un-answered questions.\n",
    "- Was class-specific survival uniform across 'Age' and 'Sex'?\n",
    "- How was 'Fare' calculated for groups sharing a ticket?\n",
    "- Was 'Embarkment' random?"
   ]
  },
  {
   "cell_type": "code",
   "execution_count": 211,
   "metadata": {
    "scrolled": false
   },
   "outputs": [
    {
     "data": {
      "text/plain": [
       "Text(0.5, 1.0, 'Influence of Title and Class on Survival Rate')"
      ]
     },
     "execution_count": 211,
     "metadata": {},
     "output_type": "execute_result"
    },
    {
     "data": {
      "text/plain": [
       "Text(0, 0.5, 'Survival Rate')"
      ]
     },
     "execution_count": 211,
     "metadata": {},
     "output_type": "execute_result"
    },
    {
     "data": {
      "text/plain": [
       "[Text(0, 0, 'Mr'),\n",
       " Text(0, 0, 'Mrs'),\n",
       " Text(0, 0, 'Master'),\n",
       " Text(0, 0, 'Miss'),\n",
       " Text(0, 0, 'Other')]"
      ]
     },
     "execution_count": 211,
     "metadata": {},
     "output_type": "execute_result"
    },
    {
     "data": {
      "image/png": "[encoded data removed]",
      "text/plain": [
       "<Figure size 504x432 with 1 Axes>"
      ]
     },
     "metadata": {},
     "output_type": "display_data"
    }
   ],
   "source": [
    "# class-specific survival\n",
    "fig, ax = plt.subplots(figsize=(7, 6))\n",
    "ax = sns.barplot(x='Title', y='Survived', hue='Class', data=train_df, ci=None, palette=cmap1)\n",
    "ax.set_title('Influence of Title and Class on Survival Rate', fontsize=16)\n",
    "ax.set_ylabel('Survival Rate')\n",
    "ax.set_xticklabels(labels=['Mr', 'Mrs', 'Master', 'Miss', 'Other'])"
   ]
  },
  {
   "cell_type": "code",
   "execution_count": 212,
   "metadata": {
    "scrolled": false
   },
   "outputs": [
    {
     "data": {
      "text/plain": [
       "Text(0.5, 1.0, 'Fare by Connections across Class')"
      ]
     },
     "execution_count": 212,
     "metadata": {},
     "output_type": "execute_result"
    },
    {
     "data": {
      "text/plain": [
       "Text(0, 0.5, 'Fare')"
      ]
     },
     "execution_count": 212,
     "metadata": {},
     "output_type": "execute_result"
    },
    {
     "data": {
      "image/png": "[encoded data removed]",
      "text/plain": [
       "<Figure size 504x432 with 1 Axes>"
      ]
     },
     "metadata": {},
     "output_type": "display_data"
    }
   ],
   "source": [
    "# un-adjusted fare\n",
    "fig, ax = plt.subplots(figsize=(7, 6))\n",
    "ax = sns.barplot(x='Connections', y='Fare(log)', hue='Class', data=train_df, ci=None, palette=cmap1)\n",
    "ax.set_title('Fare by Connections across Class')\n",
    "ax.set_ylabel('Fare')"
   ]
  },
  {
   "cell_type": "markdown",
   "metadata": {},
   "source": [
    "It appears to cost more to travel in a group, suggesting that individuals who shared a ticket paid a lump sum. I accounted for this with 'Adj_Fare'."
   ]
  },
  {
   "cell_type": "code",
   "execution_count": 213,
   "metadata": {},
   "outputs": [
    {
     "data": {
      "text/plain": [
       "Text(0.5, 1.0, 'Fare by Connections and Survived')"
      ]
     },
     "execution_count": 213,
     "metadata": {},
     "output_type": "execute_result"
    },
    {
     "data": {
      "image/png": "[encoded data removed]",
      "text/plain": [
       "<Figure size 432x360 with 1 Axes>"
      ]
     },
     "metadata": {},
     "output_type": "display_data"
    }
   ],
   "source": [
    "# adjusted fare\n",
    "fig, ax = plt.subplots(figsize=(6, 5))\n",
    "ax = sns.barplot(x='Connections', y='Adj_Fare(log)', hue='Class', data=train_df, palette=cmap1)\n",
    "ax.set_title('Fare by Connections and Survived')"
   ]
  },
  {
   "cell_type": "code",
   "execution_count": 214,
   "metadata": {},
   "outputs": [
    {
     "data": {
      "text/html": [
       "<div>\n",
       "<style scoped>\n",
       "    .dataframe tbody tr th:only-of-type {\n",
       "        vertical-align: middle;\n",
       "    }\n",
       "\n",
       "    .dataframe tbody tr th {\n",
       "        vertical-align: top;\n",
       "    }\n",
       "\n",
       "    .dataframe thead th {\n",
       "        text-align: right;\n",
       "    }\n",
       "</style>\n",
       "<table border=\"1\" class=\"dataframe\">\n",
       "  <thead>\n",
       "    <tr style=\"text-align: right;\">\n",
       "      <th></th>\n",
       "      <th>Location</th>\n",
       "      <th>Class</th>\n",
       "      <th>Count</th>\n",
       "      <th>% Survived</th>\n",
       "    </tr>\n",
       "  </thead>\n",
       "  <tbody>\n",
       "    <tr>\n",
       "      <th>0</th>\n",
       "      <td>1</td>\n",
       "      <td>1</td>\n",
       "      <td>85</td>\n",
       "      <td>0.694118</td>\n",
       "    </tr>\n",
       "    <tr>\n",
       "      <th>1</th>\n",
       "      <td>1</td>\n",
       "      <td>2</td>\n",
       "      <td>17</td>\n",
       "      <td>0.529412</td>\n",
       "    </tr>\n",
       "    <tr>\n",
       "      <th>2</th>\n",
       "      <td>1</td>\n",
       "      <td>3</td>\n",
       "      <td>66</td>\n",
       "      <td>0.378788</td>\n",
       "    </tr>\n",
       "    <tr>\n",
       "      <th>3</th>\n",
       "      <td>2</td>\n",
       "      <td>1</td>\n",
       "      <td>2</td>\n",
       "      <td>0.500000</td>\n",
       "    </tr>\n",
       "    <tr>\n",
       "      <th>4</th>\n",
       "      <td>2</td>\n",
       "      <td>2</td>\n",
       "      <td>3</td>\n",
       "      <td>0.666667</td>\n",
       "    </tr>\n",
       "    <tr>\n",
       "      <th>5</th>\n",
       "      <td>2</td>\n",
       "      <td>3</td>\n",
       "      <td>72</td>\n",
       "      <td>0.375000</td>\n",
       "    </tr>\n",
       "    <tr>\n",
       "      <th>6</th>\n",
       "      <td>3</td>\n",
       "      <td>1</td>\n",
       "      <td>124</td>\n",
       "      <td>0.612903</td>\n",
       "    </tr>\n",
       "    <tr>\n",
       "      <th>7</th>\n",
       "      <td>3</td>\n",
       "      <td>2</td>\n",
       "      <td>158</td>\n",
       "      <td>0.481013</td>\n",
       "    </tr>\n",
       "    <tr>\n",
       "      <th>8</th>\n",
       "      <td>3</td>\n",
       "      <td>3</td>\n",
       "      <td>349</td>\n",
       "      <td>0.189112</td>\n",
       "    </tr>\n",
       "    <tr>\n",
       "      <th>9</th>\n",
       "      <td>3</td>\n",
       "      <td>4</td>\n",
       "      <td>15</td>\n",
       "      <td>0.066667</td>\n",
       "    </tr>\n",
       "    <tr>\n",
       "      <th>10</th>\n",
       "      <td>Total</td>\n",
       "      <td></td>\n",
       "      <td>891</td>\n",
       "      <td>0.383838</td>\n",
       "    </tr>\n",
       "  </tbody>\n",
       "</table>\n",
       "</div>"
      ],
      "text/plain": [
       "   Location Class  Count  % Survived\n",
       "0         1     1     85    0.694118\n",
       "1         1     2     17    0.529412\n",
       "2         1     3     66    0.378788\n",
       "3         2     1      2    0.500000\n",
       "4         2     2      3    0.666667\n",
       "5         2     3     72    0.375000\n",
       "6         3     1    124    0.612903\n",
       "7         3     2    158    0.481013\n",
       "8         3     3    349    0.189112\n",
       "9         3     4     15    0.066667\n",
       "10    Total          891    0.383838"
      ]
     },
     "execution_count": 214,
     "metadata": {},
     "output_type": "execute_result"
    }
   ],
   "source": [
    "# embarkment pivot table\n",
    "embark_df = pd.pivot_table(train_df, values=['Survived', 'ID'], index=['Embarked', 'Class'], \n",
    "                           aggfunc={'Survived': np.mean, 'ID': pd.Series.nunique}, margins=True, margins_name='Total')\n",
    "embark_df.reset_index(inplace=True)\n",
    "embark_df.rename(columns={'Embarked':'Location', 'ID':'Count', \n",
    "                          'Survived':'% Survived'})"
   ]
  },
  {
   "cell_type": "code",
   "execution_count": 215,
   "metadata": {},
   "outputs": [
    {
     "data": {
      "text/html": [
       "<div>\n",
       "<style scoped>\n",
       "    .dataframe tbody tr th:only-of-type {\n",
       "        vertical-align: middle;\n",
       "    }\n",
       "\n",
       "    .dataframe tbody tr th {\n",
       "        vertical-align: top;\n",
       "    }\n",
       "\n",
       "    .dataframe thead th {\n",
       "        text-align: right;\n",
       "    }\n",
       "</style>\n",
       "<table border=\"1\" class=\"dataframe\">\n",
       "  <thead>\n",
       "    <tr style=\"text-align: right;\">\n",
       "      <th></th>\n",
       "      <th>ID</th>\n",
       "      <th>Title</th>\n",
       "      <th>Sex</th>\n",
       "      <th>Age</th>\n",
       "      <th>GroupSize</th>\n",
       "      <th>Class</th>\n",
       "      <th>Fare</th>\n",
       "      <th>Embarked</th>\n",
       "      <th>Survived</th>\n",
       "      <th>Connections</th>\n",
       "      <th>Adj_Fare</th>\n",
       "      <th>Adj_Fare(log)</th>\n",
       "      <th>Fare(log)</th>\n",
       "    </tr>\n",
       "  </thead>\n",
       "  <tbody>\n",
       "    <tr>\n",
       "      <th>0</th>\n",
       "      <td>1</td>\n",
       "      <td>1</td>\n",
       "      <td>0</td>\n",
       "      <td>22</td>\n",
       "      <td>1</td>\n",
       "      <td>3</td>\n",
       "      <td>7.25</td>\n",
       "      <td>3</td>\n",
       "      <td>0</td>\n",
       "      <td>2</td>\n",
       "      <td>7.25</td>\n",
       "      <td>2.110213</td>\n",
       "      <td>2.110213</td>\n",
       "    </tr>\n",
       "    <tr>\n",
       "      <th>1</th>\n",
       "      <td>2</td>\n",
       "      <td>2</td>\n",
       "      <td>1</td>\n",
       "      <td>38</td>\n",
       "      <td>1</td>\n",
       "      <td>1</td>\n",
       "      <td>71.28</td>\n",
       "      <td>1</td>\n",
       "      <td>1</td>\n",
       "      <td>2</td>\n",
       "      <td>71.28</td>\n",
       "      <td>4.280547</td>\n",
       "      <td>4.280547</td>\n",
       "    </tr>\n",
       "    <tr>\n",
       "      <th>2</th>\n",
       "      <td>3</td>\n",
       "      <td>4</td>\n",
       "      <td>1</td>\n",
       "      <td>26</td>\n",
       "      <td>1</td>\n",
       "      <td>3</td>\n",
       "      <td>7.92</td>\n",
       "      <td>3</td>\n",
       "      <td>1</td>\n",
       "      <td>1</td>\n",
       "      <td>7.92</td>\n",
       "      <td>2.188296</td>\n",
       "      <td>2.188296</td>\n",
       "    </tr>\n",
       "    <tr>\n",
       "      <th>3</th>\n",
       "      <td>4</td>\n",
       "      <td>2</td>\n",
       "      <td>1</td>\n",
       "      <td>35</td>\n",
       "      <td>2</td>\n",
       "      <td>1</td>\n",
       "      <td>53.10</td>\n",
       "      <td>3</td>\n",
       "      <td>1</td>\n",
       "      <td>2</td>\n",
       "      <td>26.55</td>\n",
       "      <td>3.316003</td>\n",
       "      <td>3.990834</td>\n",
       "    </tr>\n",
       "    <tr>\n",
       "      <th>4</th>\n",
       "      <td>5</td>\n",
       "      <td>1</td>\n",
       "      <td>0</td>\n",
       "      <td>35</td>\n",
       "      <td>1</td>\n",
       "      <td>3</td>\n",
       "      <td>8.05</td>\n",
       "      <td>3</td>\n",
       "      <td>0</td>\n",
       "      <td>1</td>\n",
       "      <td>8.05</td>\n",
       "      <td>2.202765</td>\n",
       "      <td>2.202765</td>\n",
       "    </tr>\n",
       "  </tbody>\n",
       "</table>\n",
       "</div>"
      ],
      "text/plain": [
       "   ID  Title  Sex  Age  GroupSize  Class   Fare  Embarked  Survived  \\\n",
       "0   1      1    0   22          1      3   7.25         3         0   \n",
       "1   2      2    1   38          1      1  71.28         1         1   \n",
       "2   3      4    1   26          1      3   7.92         3         1   \n",
       "3   4      2    1   35          2      1  53.10         3         1   \n",
       "4   5      1    0   35          1      3   8.05         3         0   \n",
       "\n",
       "   Connections  Adj_Fare  Adj_Fare(log)  Fare(log)  \n",
       "0            2      7.25       2.110213   2.110213  \n",
       "1            2     71.28       4.280547   4.280547  \n",
       "2            1      7.92       2.188296   2.188296  \n",
       "3            2     26.55       3.316003   3.990834  \n",
       "4            1      8.05       2.202765   2.202765  "
      ]
     },
     "execution_count": 215,
     "metadata": {},
     "output_type": "execute_result"
    }
   ],
   "source": [
    "train_df.head()"
   ]
  },
  {
   "cell_type": "markdown",
   "metadata": {},
   "source": [
    "## 2.5. Final Streamline"
   ]
  },
  {
   "cell_type": "code",
   "execution_count": 216,
   "metadata": {},
   "outputs": [],
   "source": [
    "# drop columns\n",
    "for dataset in combine:\n",
    "    dataset.drop(columns=['GroupSize', 'Fare', 'Adj_Fare', 'Fare(log)'], inplace=True)"
   ]
  },
  {
   "cell_type": "code",
   "execution_count": 217,
   "metadata": {},
   "outputs": [],
   "source": [
    "# rename columns\n",
    "for dataset in combine:\n",
    "    dataset.rename(columns={'Adj_Fare(log)':'Fare'}, inplace=True)"
   ]
  },
  {
   "cell_type": "code",
   "execution_count": 218,
   "metadata": {},
   "outputs": [],
   "source": [
    "# round floats\n",
    "for dataset in combine:\n",
    "    dataset['Fare'] = round(dataset['Fare'], 2)"
   ]
  },
  {
   "cell_type": "code",
   "execution_count": 219,
   "metadata": {},
   "outputs": [
    {
     "data": {
      "text/html": [
       "<div>\n",
       "<style scoped>\n",
       "    .dataframe tbody tr th:only-of-type {\n",
       "        vertical-align: middle;\n",
       "    }\n",
       "\n",
       "    .dataframe tbody tr th {\n",
       "        vertical-align: top;\n",
       "    }\n",
       "\n",
       "    .dataframe thead th {\n",
       "        text-align: right;\n",
       "    }\n",
       "</style>\n",
       "<table border=\"1\" class=\"dataframe\">\n",
       "  <thead>\n",
       "    <tr style=\"text-align: right;\">\n",
       "      <th></th>\n",
       "      <th>ID</th>\n",
       "      <th>Title</th>\n",
       "      <th>Sex</th>\n",
       "      <th>Age</th>\n",
       "      <th>Class</th>\n",
       "      <th>Embarked</th>\n",
       "      <th>Survived</th>\n",
       "      <th>Connections</th>\n",
       "      <th>Fare</th>\n",
       "    </tr>\n",
       "  </thead>\n",
       "  <tbody>\n",
       "    <tr>\n",
       "      <th>823</th>\n",
       "      <td>824</td>\n",
       "      <td>2</td>\n",
       "      <td>1</td>\n",
       "      <td>27</td>\n",
       "      <td>3</td>\n",
       "      <td>3</td>\n",
       "      <td>1</td>\n",
       "      <td>2</td>\n",
       "      <td>1.98</td>\n",
       "    </tr>\n",
       "    <tr>\n",
       "      <th>431</th>\n",
       "      <td>432</td>\n",
       "      <td>2</td>\n",
       "      <td>1</td>\n",
       "      <td>31</td>\n",
       "      <td>3</td>\n",
       "      <td>3</td>\n",
       "      <td>1</td>\n",
       "      <td>2</td>\n",
       "      <td>2.20</td>\n",
       "    </tr>\n",
       "    <tr>\n",
       "      <th>720</th>\n",
       "      <td>721</td>\n",
       "      <td>4</td>\n",
       "      <td>1</td>\n",
       "      <td>6</td>\n",
       "      <td>2</td>\n",
       "      <td>3</td>\n",
       "      <td>1</td>\n",
       "      <td>2</td>\n",
       "      <td>2.48</td>\n",
       "    </tr>\n",
       "    <tr>\n",
       "      <th>724</th>\n",
       "      <td>725</td>\n",
       "      <td>1</td>\n",
       "      <td>0</td>\n",
       "      <td>27</td>\n",
       "      <td>1</td>\n",
       "      <td>3</td>\n",
       "      <td>1</td>\n",
       "      <td>2</td>\n",
       "      <td>3.32</td>\n",
       "    </tr>\n",
       "    <tr>\n",
       "      <th>96</th>\n",
       "      <td>97</td>\n",
       "      <td>1</td>\n",
       "      <td>0</td>\n",
       "      <td>71</td>\n",
       "      <td>1</td>\n",
       "      <td>1</td>\n",
       "      <td>0</td>\n",
       "      <td>1</td>\n",
       "      <td>3.57</td>\n",
       "    </tr>\n",
       "    <tr>\n",
       "      <th>666</th>\n",
       "      <td>667</td>\n",
       "      <td>1</td>\n",
       "      <td>0</td>\n",
       "      <td>25</td>\n",
       "      <td>2</td>\n",
       "      <td>3</td>\n",
       "      <td>0</td>\n",
       "      <td>1</td>\n",
       "      <td>2.64</td>\n",
       "    </tr>\n",
       "    <tr>\n",
       "      <th>112</th>\n",
       "      <td>113</td>\n",
       "      <td>1</td>\n",
       "      <td>0</td>\n",
       "      <td>22</td>\n",
       "      <td>3</td>\n",
       "      <td>3</td>\n",
       "      <td>0</td>\n",
       "      <td>1</td>\n",
       "      <td>2.20</td>\n",
       "    </tr>\n",
       "    <tr>\n",
       "      <th>867</th>\n",
       "      <td>868</td>\n",
       "      <td>1</td>\n",
       "      <td>0</td>\n",
       "      <td>31</td>\n",
       "      <td>1</td>\n",
       "      <td>3</td>\n",
       "      <td>0</td>\n",
       "      <td>1</td>\n",
       "      <td>3.94</td>\n",
       "    </tr>\n",
       "  </tbody>\n",
       "</table>\n",
       "</div>"
      ],
      "text/plain": [
       "      ID  Title  Sex  Age  Class  Embarked  Survived  Connections  Fare\n",
       "823  824      2    1   27      3         3         1            2  1.98\n",
       "431  432      2    1   31      3         3         1            2  2.20\n",
       "720  721      4    1    6      2         3         1            2  2.48\n",
       "724  725      1    0   27      1         3         1            2  3.32\n",
       "96    97      1    0   71      1         1         0            1  3.57\n",
       "666  667      1    0   25      2         3         0            1  2.64\n",
       "112  113      1    0   22      3         3         0            1  2.20\n",
       "867  868      1    0   31      1         3         0            1  3.94"
      ]
     },
     "execution_count": 219,
     "metadata": {},
     "output_type": "execute_result"
    },
    {
     "name": "stdout",
     "output_type": "stream",
     "text": [
      "<class 'pandas.core.frame.DataFrame'>\n",
      "RangeIndex: 891 entries, 0 to 890\n",
      "Data columns (total 9 columns):\n",
      " #   Column       Non-Null Count  Dtype  \n",
      "---  ------       --------------  -----  \n",
      " 0   ID           891 non-null    int64  \n",
      " 1   Title        891 non-null    int64  \n",
      " 2   Sex          891 non-null    int64  \n",
      " 3   Age          891 non-null    int32  \n",
      " 4   Class        891 non-null    int64  \n",
      " 5   Embarked     891 non-null    int64  \n",
      " 6   Survived     891 non-null    int64  \n",
      " 7   Connections  891 non-null    int64  \n",
      " 8   Fare         891 non-null    float64\n",
      "dtypes: float64(1), int32(1), int64(7)\n",
      "memory usage: 59.3 KB\n"
     ]
    },
    {
     "data": {
      "text/html": [
       "<div>\n",
       "<style scoped>\n",
       "    .dataframe tbody tr th:only-of-type {\n",
       "        vertical-align: middle;\n",
       "    }\n",
       "\n",
       "    .dataframe tbody tr th {\n",
       "        vertical-align: top;\n",
       "    }\n",
       "\n",
       "    .dataframe thead th {\n",
       "        text-align: right;\n",
       "    }\n",
       "</style>\n",
       "<table border=\"1\" class=\"dataframe\">\n",
       "  <thead>\n",
       "    <tr style=\"text-align: right;\">\n",
       "      <th></th>\n",
       "      <th>ID</th>\n",
       "      <th>Title</th>\n",
       "      <th>Sex</th>\n",
       "      <th>Age</th>\n",
       "      <th>Class</th>\n",
       "      <th>Embarked</th>\n",
       "      <th>Survived</th>\n",
       "      <th>Connections</th>\n",
       "      <th>Fare</th>\n",
       "    </tr>\n",
       "  </thead>\n",
       "  <tbody>\n",
       "    <tr>\n",
       "      <th>count</th>\n",
       "      <td>891.000000</td>\n",
       "      <td>891.000000</td>\n",
       "      <td>891.000000</td>\n",
       "      <td>891.000000</td>\n",
       "      <td>891.000000</td>\n",
       "      <td>891.000000</td>\n",
       "      <td>891.000000</td>\n",
       "      <td>891.000000</td>\n",
       "      <td>891.000000</td>\n",
       "    </tr>\n",
       "    <tr>\n",
       "      <th>mean</th>\n",
       "      <td>446.000000</td>\n",
       "      <td>1.964085</td>\n",
       "      <td>0.352413</td>\n",
       "      <td>29.178451</td>\n",
       "      <td>2.343434</td>\n",
       "      <td>2.536476</td>\n",
       "      <td>0.383838</td>\n",
       "      <td>1.564534</td>\n",
       "      <td>2.600135</td>\n",
       "    </tr>\n",
       "    <tr>\n",
       "      <th>std</th>\n",
       "      <td>257.353842</td>\n",
       "      <td>1.309795</td>\n",
       "      <td>0.477990</td>\n",
       "      <td>13.498174</td>\n",
       "      <td>0.856508</td>\n",
       "      <td>0.791503</td>\n",
       "      <td>0.486592</td>\n",
       "      <td>0.642187</td>\n",
       "      <td>0.764288</td>\n",
       "    </tr>\n",
       "    <tr>\n",
       "      <th>min</th>\n",
       "      <td>1.000000</td>\n",
       "      <td>1.000000</td>\n",
       "      <td>0.000000</td>\n",
       "      <td>1.000000</td>\n",
       "      <td>1.000000</td>\n",
       "      <td>1.000000</td>\n",
       "      <td>0.000000</td>\n",
       "      <td>1.000000</td>\n",
       "      <td>0.000000</td>\n",
       "    </tr>\n",
       "    <tr>\n",
       "      <th>25%</th>\n",
       "      <td>223.500000</td>\n",
       "      <td>1.000000</td>\n",
       "      <td>0.000000</td>\n",
       "      <td>21.000000</td>\n",
       "      <td>2.000000</td>\n",
       "      <td>2.000000</td>\n",
       "      <td>0.000000</td>\n",
       "      <td>1.000000</td>\n",
       "      <td>2.170000</td>\n",
       "    </tr>\n",
       "    <tr>\n",
       "      <th>50%</th>\n",
       "      <td>446.000000</td>\n",
       "      <td>1.000000</td>\n",
       "      <td>0.000000</td>\n",
       "      <td>26.000000</td>\n",
       "      <td>3.000000</td>\n",
       "      <td>3.000000</td>\n",
       "      <td>0.000000</td>\n",
       "      <td>1.000000</td>\n",
       "      <td>2.290000</td>\n",
       "    </tr>\n",
       "    <tr>\n",
       "      <th>75%</th>\n",
       "      <td>668.500000</td>\n",
       "      <td>3.000000</td>\n",
       "      <td>1.000000</td>\n",
       "      <td>37.000000</td>\n",
       "      <td>3.000000</td>\n",
       "      <td>3.000000</td>\n",
       "      <td>1.000000</td>\n",
       "      <td>2.000000</td>\n",
       "      <td>3.230000</td>\n",
       "    </tr>\n",
       "    <tr>\n",
       "      <th>max</th>\n",
       "      <td>891.000000</td>\n",
       "      <td>5.000000</td>\n",
       "      <td>1.000000</td>\n",
       "      <td>80.000000</td>\n",
       "      <td>4.000000</td>\n",
       "      <td>3.000000</td>\n",
       "      <td>1.000000</td>\n",
       "      <td>3.000000</td>\n",
       "      <td>5.410000</td>\n",
       "    </tr>\n",
       "  </tbody>\n",
       "</table>\n",
       "</div>"
      ],
      "text/plain": [
       "               ID       Title         Sex         Age       Class    Embarked  \\\n",
       "count  891.000000  891.000000  891.000000  891.000000  891.000000  891.000000   \n",
       "mean   446.000000    1.964085    0.352413   29.178451    2.343434    2.536476   \n",
       "std    257.353842    1.309795    0.477990   13.498174    0.856508    0.791503   \n",
       "min      1.000000    1.000000    0.000000    1.000000    1.000000    1.000000   \n",
       "25%    223.500000    1.000000    0.000000   21.000000    2.000000    2.000000   \n",
       "50%    446.000000    1.000000    0.000000   26.000000    3.000000    3.000000   \n",
       "75%    668.500000    3.000000    1.000000   37.000000    3.000000    3.000000   \n",
       "max    891.000000    5.000000    1.000000   80.000000    4.000000    3.000000   \n",
       "\n",
       "         Survived  Connections        Fare  \n",
       "count  891.000000   891.000000  891.000000  \n",
       "mean     0.383838     1.564534    2.600135  \n",
       "std      0.486592     0.642187    0.764288  \n",
       "min      0.000000     1.000000    0.000000  \n",
       "25%      0.000000     1.000000    2.170000  \n",
       "50%      0.000000     1.000000    2.290000  \n",
       "75%      1.000000     2.000000    3.230000  \n",
       "max      1.000000     3.000000    5.410000  "
      ]
     },
     "execution_count": 219,
     "metadata": {},
     "output_type": "execute_result"
    },
    {
     "data": {
      "text/html": [
       "<div>\n",
       "<style scoped>\n",
       "    .dataframe tbody tr th:only-of-type {\n",
       "        vertical-align: middle;\n",
       "    }\n",
       "\n",
       "    .dataframe tbody tr th {\n",
       "        vertical-align: top;\n",
       "    }\n",
       "\n",
       "    .dataframe thead th {\n",
       "        text-align: right;\n",
       "    }\n",
       "</style>\n",
       "<table border=\"1\" class=\"dataframe\">\n",
       "  <thead>\n",
       "    <tr style=\"text-align: right;\">\n",
       "      <th></th>\n",
       "      <th>ID</th>\n",
       "      <th>Title</th>\n",
       "      <th>Sex</th>\n",
       "      <th>Age</th>\n",
       "      <th>Class</th>\n",
       "      <th>Embarked</th>\n",
       "      <th>Connections</th>\n",
       "      <th>Fare</th>\n",
       "    </tr>\n",
       "  </thead>\n",
       "  <tbody>\n",
       "    <tr>\n",
       "      <th>166</th>\n",
       "      <td>1058</td>\n",
       "      <td>1</td>\n",
       "      <td>0</td>\n",
       "      <td>48</td>\n",
       "      <td>1</td>\n",
       "      <td>1</td>\n",
       "      <td>1</td>\n",
       "      <td>3.94</td>\n",
       "    </tr>\n",
       "    <tr>\n",
       "      <th>248</th>\n",
       "      <td>1140</td>\n",
       "      <td>2</td>\n",
       "      <td>1</td>\n",
       "      <td>29</td>\n",
       "      <td>2</td>\n",
       "      <td>3</td>\n",
       "      <td>2</td>\n",
       "      <td>3.30</td>\n",
       "    </tr>\n",
       "    <tr>\n",
       "      <th>164</th>\n",
       "      <td>1056</td>\n",
       "      <td>5</td>\n",
       "      <td>0</td>\n",
       "      <td>41</td>\n",
       "      <td>2</td>\n",
       "      <td>3</td>\n",
       "      <td>1</td>\n",
       "      <td>2.64</td>\n",
       "    </tr>\n",
       "    <tr>\n",
       "      <th>287</th>\n",
       "      <td>1179</td>\n",
       "      <td>1</td>\n",
       "      <td>0</td>\n",
       "      <td>24</td>\n",
       "      <td>1</td>\n",
       "      <td>3</td>\n",
       "      <td>2</td>\n",
       "      <td>3.74</td>\n",
       "    </tr>\n",
       "    <tr>\n",
       "      <th>410</th>\n",
       "      <td>1302</td>\n",
       "      <td>4</td>\n",
       "      <td>1</td>\n",
       "      <td>18</td>\n",
       "      <td>3</td>\n",
       "      <td>2</td>\n",
       "      <td>1</td>\n",
       "      <td>2.17</td>\n",
       "    </tr>\n",
       "    <tr>\n",
       "      <th>184</th>\n",
       "      <td>1076</td>\n",
       "      <td>2</td>\n",
       "      <td>1</td>\n",
       "      <td>27</td>\n",
       "      <td>1</td>\n",
       "      <td>1</td>\n",
       "      <td>2</td>\n",
       "      <td>5.52</td>\n",
       "    </tr>\n",
       "    <tr>\n",
       "      <th>14</th>\n",
       "      <td>906</td>\n",
       "      <td>2</td>\n",
       "      <td>1</td>\n",
       "      <td>47</td>\n",
       "      <td>1</td>\n",
       "      <td>3</td>\n",
       "      <td>2</td>\n",
       "      <td>4.13</td>\n",
       "    </tr>\n",
       "    <tr>\n",
       "      <th>70</th>\n",
       "      <td>962</td>\n",
       "      <td>4</td>\n",
       "      <td>1</td>\n",
       "      <td>24</td>\n",
       "      <td>3</td>\n",
       "      <td>2</td>\n",
       "      <td>1</td>\n",
       "      <td>2.17</td>\n",
       "    </tr>\n",
       "  </tbody>\n",
       "</table>\n",
       "</div>"
      ],
      "text/plain": [
       "       ID  Title  Sex  Age  Class  Embarked  Connections  Fare\n",
       "166  1058      1    0   48      1         1            1  3.94\n",
       "248  1140      2    1   29      2         3            2  3.30\n",
       "164  1056      5    0   41      2         3            1  2.64\n",
       "287  1179      1    0   24      1         3            2  3.74\n",
       "410  1302      4    1   18      3         2            1  2.17\n",
       "184  1076      2    1   27      1         1            2  5.52\n",
       "14    906      2    1   47      1         3            2  4.13\n",
       "70    962      4    1   24      3         2            1  2.17"
      ]
     },
     "execution_count": 219,
     "metadata": {},
     "output_type": "execute_result"
    },
    {
     "name": "stdout",
     "output_type": "stream",
     "text": [
      "<class 'pandas.core.frame.DataFrame'>\n",
      "RangeIndex: 418 entries, 0 to 417\n",
      "Data columns (total 8 columns):\n",
      " #   Column       Non-Null Count  Dtype  \n",
      "---  ------       --------------  -----  \n",
      " 0   ID           418 non-null    int64  \n",
      " 1   Title        418 non-null    int64  \n",
      " 2   Sex          418 non-null    int64  \n",
      " 3   Age          418 non-null    int32  \n",
      " 4   Class        418 non-null    int64  \n",
      " 5   Embarked     418 non-null    int64  \n",
      " 6   Connections  418 non-null    int64  \n",
      " 7   Fare         418 non-null    float64\n",
      "dtypes: float64(1), int32(1), int64(6)\n",
      "memory usage: 24.6 KB\n"
     ]
    },
    {
     "data": {
      "text/html": [
       "<div>\n",
       "<style scoped>\n",
       "    .dataframe tbody tr th:only-of-type {\n",
       "        vertical-align: middle;\n",
       "    }\n",
       "\n",
       "    .dataframe tbody tr th {\n",
       "        vertical-align: top;\n",
       "    }\n",
       "\n",
       "    .dataframe thead th {\n",
       "        text-align: right;\n",
       "    }\n",
       "</style>\n",
       "<table border=\"1\" class=\"dataframe\">\n",
       "  <thead>\n",
       "    <tr style=\"text-align: right;\">\n",
       "      <th></th>\n",
       "      <th>ID</th>\n",
       "      <th>Title</th>\n",
       "      <th>Sex</th>\n",
       "      <th>Age</th>\n",
       "      <th>Class</th>\n",
       "      <th>Embarked</th>\n",
       "      <th>Connections</th>\n",
       "      <th>Fare</th>\n",
       "    </tr>\n",
       "  </thead>\n",
       "  <tbody>\n",
       "    <tr>\n",
       "      <th>count</th>\n",
       "      <td>418.000000</td>\n",
       "      <td>418.000000</td>\n",
       "      <td>418.000000</td>\n",
       "      <td>418.000000</td>\n",
       "      <td>418.000000</td>\n",
       "      <td>418.000000</td>\n",
       "      <td>418.000000</td>\n",
       "      <td>418.000000</td>\n",
       "    </tr>\n",
       "    <tr>\n",
       "      <th>mean</th>\n",
       "      <td>1100.500000</td>\n",
       "      <td>1.899522</td>\n",
       "      <td>0.363636</td>\n",
       "      <td>29.334928</td>\n",
       "      <td>2.279904</td>\n",
       "      <td>2.401914</td>\n",
       "      <td>1.497608</td>\n",
       "      <td>2.822990</td>\n",
       "    </tr>\n",
       "    <tr>\n",
       "      <th>std</th>\n",
       "      <td>120.810458</td>\n",
       "      <td>1.230878</td>\n",
       "      <td>0.481622</td>\n",
       "      <td>13.201184</td>\n",
       "      <td>0.845713</td>\n",
       "      <td>0.854496</td>\n",
       "      <td>0.596749</td>\n",
       "      <td>0.800615</td>\n",
       "    </tr>\n",
       "    <tr>\n",
       "      <th>min</th>\n",
       "      <td>892.000000</td>\n",
       "      <td>1.000000</td>\n",
       "      <td>0.000000</td>\n",
       "      <td>0.000000</td>\n",
       "      <td>1.000000</td>\n",
       "      <td>1.000000</td>\n",
       "      <td>1.000000</td>\n",
       "      <td>0.000000</td>\n",
       "    </tr>\n",
       "    <tr>\n",
       "      <th>25%</th>\n",
       "      <td>996.250000</td>\n",
       "      <td>1.000000</td>\n",
       "      <td>0.000000</td>\n",
       "      <td>21.250000</td>\n",
       "      <td>1.250000</td>\n",
       "      <td>2.000000</td>\n",
       "      <td>1.000000</td>\n",
       "      <td>2.180000</td>\n",
       "    </tr>\n",
       "    <tr>\n",
       "      <th>50%</th>\n",
       "      <td>1100.500000</td>\n",
       "      <td>1.000000</td>\n",
       "      <td>0.000000</td>\n",
       "      <td>26.000000</td>\n",
       "      <td>3.000000</td>\n",
       "      <td>3.000000</td>\n",
       "      <td>1.000000</td>\n",
       "      <td>2.605000</td>\n",
       "    </tr>\n",
       "    <tr>\n",
       "      <th>75%</th>\n",
       "      <td>1204.750000</td>\n",
       "      <td>3.000000</td>\n",
       "      <td>1.000000</td>\n",
       "      <td>36.000000</td>\n",
       "      <td>3.000000</td>\n",
       "      <td>3.000000</td>\n",
       "      <td>2.000000</td>\n",
       "      <td>3.320000</td>\n",
       "    </tr>\n",
       "    <tr>\n",
       "      <th>max</th>\n",
       "      <td>1309.000000</td>\n",
       "      <td>5.000000</td>\n",
       "      <td>1.000000</td>\n",
       "      <td>76.000000</td>\n",
       "      <td>4.000000</td>\n",
       "      <td>3.000000</td>\n",
       "      <td>3.000000</td>\n",
       "      <td>6.240000</td>\n",
       "    </tr>\n",
       "  </tbody>\n",
       "</table>\n",
       "</div>"
      ],
      "text/plain": [
       "                ID       Title         Sex         Age       Class  \\\n",
       "count   418.000000  418.000000  418.000000  418.000000  418.000000   \n",
       "mean   1100.500000    1.899522    0.363636   29.334928    2.279904   \n",
       "std     120.810458    1.230878    0.481622   13.201184    0.845713   \n",
       "min     892.000000    1.000000    0.000000    0.000000    1.000000   \n",
       "25%     996.250000    1.000000    0.000000   21.250000    1.250000   \n",
       "50%    1100.500000    1.000000    0.000000   26.000000    3.000000   \n",
       "75%    1204.750000    3.000000    1.000000   36.000000    3.000000   \n",
       "max    1309.000000    5.000000    1.000000   76.000000    4.000000   \n",
       "\n",
       "         Embarked  Connections        Fare  \n",
       "count  418.000000   418.000000  418.000000  \n",
       "mean     2.401914     1.497608    2.822990  \n",
       "std      0.854496     0.596749    0.800615  \n",
       "min      1.000000     1.000000    0.000000  \n",
       "25%      2.000000     1.000000    2.180000  \n",
       "50%      3.000000     1.000000    2.605000  \n",
       "75%      3.000000     2.000000    3.320000  \n",
       "max      3.000000     3.000000    6.240000  "
      ]
     },
     "execution_count": 219,
     "metadata": {},
     "output_type": "execute_result"
    }
   ],
   "source": [
    "# final QA check\n",
    "for dataset in combine:\n",
    "    dataset.sample(8)\n",
    "    dataset.info()\n",
    "    dataset.describe()"
   ]
  },
  {
   "cell_type": "markdown",
   "metadata": {},
   "source": [
    "# 3. Modeling\n",
    "## 3.1. Libraries and Setup"
   ]
  },
  {
   "cell_type": "code",
   "execution_count": 220,
   "metadata": {},
   "outputs": [],
   "source": [
    "# import libraries\n",
    "import imageio\n",
    "import io\n",
    "import pydotplus\n",
    "\n",
    "from matplotlib.colors import ListedColormap\n",
    "\n",
    "from sklearn.ensemble import RandomForestClassifier, VotingClassifier\n",
    "from sklearn.linear_model import LogisticRegression\n",
    "from sklearn.metrics import confusion_matrix, classification_report, accuracy_score\n",
    "from sklearn.model_selection import GridSearchCV, train_test_split\n",
    "from sklearn.neighbors import KNeighborsClassifier\n",
    "from sklearn.pipeline import Pipeline\n",
    "from sklearn.preprocessing import StandardScaler\n",
    "from sklearn.svm import SVC\n",
    "from sklearn.tree import DecisionTreeClassifier, export_graphviz"
   ]
  },
  {
   "cell_type": "code",
   "execution_count": 221,
   "metadata": {},
   "outputs": [],
   "source": [
    "# pull ID for submission and drop\n",
    "test_ID = test_df['ID']\n",
    "for dataset in combine:\n",
    "    dataset.drop('ID', axis=1, inplace=True)\n",
    "\n",
    "# create X, y, headers\n",
    "X = train_df.drop('Survived', axis=1)\n",
    "X2 = train_df[['Age', 'Fare']]\n",
    "headers = X.columns\n",
    "headers2 = X2.columns\n",
    "y = train_df['Survived']"
   ]
  },
  {
   "cell_type": "markdown",
   "metadata": {},
   "source": [
    "### Pre-processing"
   ]
  },
  {
   "cell_type": "code",
   "execution_count": 222,
   "metadata": {},
   "outputs": [],
   "source": [
    "# train/test split for cross-validation\n",
    "X_train, X_test, y_train, y_test = train_test_split(X, y, test_size=0.33, random_state=0)"
   ]
  },
  {
   "cell_type": "code",
   "execution_count": 223,
   "metadata": {},
   "outputs": [],
   "source": [
    "# scale training set\n",
    "scale = StandardScaler()\n",
    "X_train = scale.fit_transform(X_train)\n",
    "X_test = scale.fit_transform(X_test)\n",
    "\n",
    "# scale testing set\n",
    "test_df = scale.fit_transform(test_df)\n",
    "\n",
    "# compare models\n",
    "model_name = []\n",
    "acc_scores = []"
   ]
  },
  {
   "cell_type": "markdown",
   "metadata": {},
   "source": [
    "## 3.2. Logistic Regression"
   ]
  },
  {
   "cell_type": "code",
   "execution_count": 224,
   "metadata": {},
   "outputs": [
    {
     "data": {
      "text/plain": [
       "{'C': 1, 'penalty': 'l2', 'solver': 'newton-cg'}"
      ]
     },
     "execution_count": 224,
     "metadata": {},
     "output_type": "execute_result"
    }
   ],
   "source": [
    "# tuning hyperparameters\n",
    "param_grid = [{'penalty':['l1', 'l2', 'elasticnet', 'none'], 'C':[0.5, 1, 1.5],\n",
    "               'solver':['newton-cg', 'lbfgs', 'liblinear', 'sag', 'saga']}]\n",
    "lr = LogisticRegression()\n",
    "log_grid = GridSearchCV(lr, param_grid, cv=5, n_jobs=-1, return_train_score=False)\n",
    "grid_results = log_grid.fit(X_train, y_train)\n",
    "grid_table = pd.DataFrame(grid_results.cv_results_)\n",
    "grid_results.best_params_"
   ]
  },
  {
   "cell_type": "code",
   "execution_count": 225,
   "metadata": {},
   "outputs": [
    {
     "data": {
      "text/plain": [
       "LogisticRegression(solver='newton-cg')"
      ]
     },
     "execution_count": 225,
     "metadata": {},
     "output_type": "execute_result"
    }
   ],
   "source": [
    "# call and fit\n",
    "model_name.append('Logistic Regression')\n",
    "log_reg = LogisticRegression(solver='newton-cg', penalty='l2')\n",
    "log_reg.fit(X_train, y_train)\n",
    "\n",
    "# predict\n",
    "y_pred = log_reg.predict(X_test)"
   ]
  },
  {
   "cell_type": "code",
   "execution_count": 226,
   "metadata": {
    "scrolled": true
   },
   "outputs": [
    {
     "name": "stdout",
     "output_type": "stream",
     "text": [
      "              precision    recall  f1-score   support\n",
      "\n",
      "           0       0.82      0.84      0.83       184\n",
      "           1       0.73      0.69      0.71       111\n",
      "\n",
      "    accuracy                           0.79       295\n",
      "   macro avg       0.77      0.77      0.77       295\n",
      "weighted avg       0.78      0.79      0.79       295\n",
      "\n"
     ]
    }
   ],
   "source": [
    "# evaluate\n",
    "log_report = classification_report(y_test, y_pred)\n",
    "print(log_report)\n",
    "acc_scores.append(round(accuracy_score(y_test, y_pred), 4))"
   ]
  },
  {
   "cell_type": "markdown",
   "metadata": {},
   "source": [
    "## 3.3. Support Vector Classifier"
   ]
  },
  {
   "cell_type": "code",
   "execution_count": 227,
   "metadata": {},
   "outputs": [
    {
     "data": {
      "text/plain": [
       "{'kernel': 'rbf'}"
      ]
     },
     "execution_count": 227,
     "metadata": {},
     "output_type": "execute_result"
    }
   ],
   "source": [
    "# tuning hyperparameters\n",
    "param_grid = [{'kernel':['linear', 'poly', 'rbf', 'sigmoid']}]\n",
    "sv = SVC()\n",
    "sv_grid = GridSearchCV(sv, param_grid, cv=5, n_jobs=-1, return_train_score=False)\n",
    "grid_results = sv_grid.fit(X_train, y_train)\n",
    "grid_table = pd.DataFrame(grid_results.cv_results_)\n",
    "grid_results.best_params_"
   ]
  },
  {
   "cell_type": "code",
   "execution_count": 228,
   "metadata": {},
   "outputs": [
    {
     "data": {
      "text/plain": [
       "SVC(probability=True)"
      ]
     },
     "execution_count": 228,
     "metadata": {},
     "output_type": "execute_result"
    }
   ],
   "source": [
    "# call and fit\n",
    "model_name.append('Support Vector Classifier')\n",
    "sv_clf = SVC(probability=True)\n",
    "sv_clf.fit(X_train, y_train)\n",
    "\n",
    "# predict\n",
    "y_pred = sv_clf.predict(X_test)"
   ]
  },
  {
   "cell_type": "code",
   "execution_count": 229,
   "metadata": {},
   "outputs": [
    {
     "name": "stdout",
     "output_type": "stream",
     "text": [
      "              precision    recall  f1-score   support\n",
      "\n",
      "           0       0.85      0.88      0.86       184\n",
      "           1       0.78      0.74      0.76       111\n",
      "\n",
      "    accuracy                           0.82       295\n",
      "   macro avg       0.81      0.81      0.81       295\n",
      "weighted avg       0.82      0.82      0.82       295\n",
      "\n"
     ]
    }
   ],
   "source": [
    "# evaluate\n",
    "sv_report = classification_report(y_test, y_pred)\n",
    "print(sv_report)\n",
    "acc_scores.append(round(accuracy_score(y_test, y_pred), 4))"
   ]
  },
  {
   "cell_type": "markdown",
   "metadata": {},
   "source": [
    "## 3.4. K-nearest Neighbors"
   ]
  },
  {
   "cell_type": "code",
   "execution_count": 230,
   "metadata": {},
   "outputs": [
    {
     "data": {
      "text/plain": [
       "{'metric': 'manhattan', 'n_neighbors': 4, 'weights': 'uniform'}"
      ]
     },
     "execution_count": 230,
     "metadata": {},
     "output_type": "execute_result"
    }
   ],
   "source": [
    "# tuning hyperparameters\n",
    "param_grid = [{'n_neighbors':[2, 3, 4, 6, 10], \n",
    "               'weights': ['uniform', 'distance'], \n",
    "               'metric': ['euclidean', 'manhattan']}]\n",
    "knn = KNeighborsClassifier()\n",
    "knn_grid = GridSearchCV(knn, param_grid, cv=5, n_jobs=-1, return_train_score=False)\n",
    "grid_results = knn_grid.fit(X_train, y_train)\n",
    "grid_table = pd.DataFrame(grid_results.cv_results_)\n",
    "grid_results.best_params_"
   ]
  },
  {
   "cell_type": "code",
   "execution_count": 231,
   "metadata": {},
   "outputs": [
    {
     "data": {
      "text/plain": [
       "KNeighborsClassifier(metric='manhattan', n_neighbors=4)"
      ]
     },
     "execution_count": 231,
     "metadata": {},
     "output_type": "execute_result"
    }
   ],
   "source": [
    "# call and fit\n",
    "model_name.append('K-nearest Neighbors')\n",
    "knn_clf = KNeighborsClassifier(metric=\"manhattan\", n_neighbors=4, weights=\"uniform\")\n",
    "knn_clf.fit(X_train, y_train)\n",
    "\n",
    "# predict\n",
    "y_pred = knn_clf.predict(X_test)"
   ]
  },
  {
   "cell_type": "code",
   "execution_count": 232,
   "metadata": {},
   "outputs": [
    {
     "name": "stdout",
     "output_type": "stream",
     "text": [
      "              precision    recall  f1-score   support\n",
      "\n",
      "           0       0.82      0.93      0.87       184\n",
      "           1       0.86      0.65      0.74       111\n",
      "\n",
      "    accuracy                           0.83       295\n",
      "   macro avg       0.84      0.79      0.80       295\n",
      "weighted avg       0.83      0.83      0.82       295\n",
      "\n"
     ]
    }
   ],
   "source": [
    "# evaluate\n",
    "knn_report = classification_report(y_test, y_pred)\n",
    "print(knn_report)\n",
    "acc_scores.append(round(accuracy_score(y_test, y_pred), 4))"
   ]
  },
  {
   "cell_type": "markdown",
   "metadata": {},
   "source": [
    "## 3.5. Decision Tree"
   ]
  },
  {
   "cell_type": "code",
   "execution_count": 233,
   "metadata": {},
   "outputs": [
    {
     "data": {
      "text/plain": [
       "{'criterion': 'entropy',\n",
       " 'max_depth': 4,\n",
       " 'max_leaf_nodes': 64,\n",
       " 'min_samples_leaf': 5,\n",
       " 'splitter': 'random'}"
      ]
     },
     "execution_count": 233,
     "metadata": {},
     "output_type": "execute_result"
    }
   ],
   "source": [
    "# tuning hyperparameters\n",
    "param_grid = [{'criterion':['gini', 'entropy'], 'splitter': ['best', 'random'], 'max_depth': [2, 3, 4],\n",
    "               'min_samples_leaf':[1, 3, 5], 'max_leaf_nodes':[16, 32, 64]}]\n",
    "dt = DecisionTreeClassifier()\n",
    "dt_grid = GridSearchCV(dt, param_grid, cv=5, n_jobs=-1, return_train_score=False)\n",
    "grid_results = dt_grid.fit(X_train, y_train)\n",
    "grid_table = pd.DataFrame(grid_results.cv_results_)\n",
    "grid_results.best_params_"
   ]
  },
  {
   "cell_type": "code",
   "execution_count": 234,
   "metadata": {},
   "outputs": [
    {
     "data": {
      "text/plain": [
       "DecisionTreeClassifier(criterion='entropy', max_depth=4, max_leaf_nodes=16,\n",
       "                       min_samples_leaf=5)"
      ]
     },
     "execution_count": 234,
     "metadata": {},
     "output_type": "execute_result"
    }
   ],
   "source": [
    "# call and fit\n",
    "model_name.append('Decision Tree')\n",
    "dt_clf = DecisionTreeClassifier(criterion='entropy', max_depth=4, max_leaf_nodes=16, min_samples_leaf=5, splitter='best')\n",
    "dt_clf.fit(X_train, y_train)\n",
    "\n",
    "# predict\n",
    "y_pred = dt_clf.predict(X_test)"
   ]
  },
  {
   "cell_type": "code",
   "execution_count": 235,
   "metadata": {},
   "outputs": [
    {
     "name": "stdout",
     "output_type": "stream",
     "text": [
      "              precision    recall  f1-score   support\n",
      "\n",
      "           0       0.85      0.78      0.81       184\n",
      "           1       0.68      0.77      0.72       111\n",
      "\n",
      "    accuracy                           0.78       295\n",
      "   macro avg       0.76      0.78      0.77       295\n",
      "weighted avg       0.79      0.78      0.78       295\n",
      "\n"
     ]
    }
   ],
   "source": [
    "# evaluate\n",
    "dt_report = classification_report(y_test, y_pred)\n",
    "print(dt_report)\n",
    "acc_scores.append(round(accuracy_score(y_test, y_pred), 4))"
   ]
  },
  {
   "cell_type": "code",
   "execution_count": 236,
   "metadata": {},
   "outputs": [
    {
     "data": {
      "image/png": "[encoded data removed]",
      "text/plain": [
       "<Figure size 1296x504 with 1 Axes>"
      ]
     },
     "metadata": {},
     "output_type": "display_data"
    }
   ],
   "source": [
    "# visualize\n",
    "def viewTree(tree, features, path):\n",
    "    f = io.StringIO()\n",
    "    export_graphviz(tree, out_file=f, feature_names=features)\n",
    "    pydotplus.graph_from_dot_data(f.getvalue()).write_png(path)\n",
    "    img = imageio.imread(path)\n",
    "    fig, ax = plt.subplots(figsize=(18, 7))\n",
    "    plt.imshow(img)\n",
    "    ax.set_xticklabels(labels='')\n",
    "    ax.set_yticklabels(labels='')\n",
    "viewTree(dt_clf, headers, 'dtree_01.png')"
   ]
  },
  {
   "cell_type": "markdown",
   "metadata": {},
   "source": [
    "## 3.6. Random Forest"
   ]
  },
  {
   "cell_type": "code",
   "execution_count": 237,
   "metadata": {},
   "outputs": [
    {
     "data": {
      "text/plain": [
       "{'criterion': 'entropy',\n",
       " 'max_depth': 4,\n",
       " 'max_leaf_nodes': 32,\n",
       " 'min_samples_leaf': 1,\n",
       " 'n_estimators': 100}"
      ]
     },
     "execution_count": 237,
     "metadata": {},
     "output_type": "execute_result"
    }
   ],
   "source": [
    "# tuning hyperparameters\n",
    "param_grid = [{'n_estimators':[100, 250, 500], 'criterion': ['gini', 'entropy'], 'max_depth': [3, 4, 6],\n",
    "               'min_samples_leaf':[1, 3, 5], 'max_leaf_nodes':[16, 32, 64]}]\n",
    "rf = RandomForestClassifier()\n",
    "rf_grid = GridSearchCV(rf, param_grid, cv=5, n_jobs=-1, return_train_score=False)\n",
    "grid_results = rf_grid.fit(X_train, y_train)\n",
    "grid_table = pd.DataFrame(grid_results.cv_results_)\n",
    "grid_results.best_params_"
   ]
  },
  {
   "cell_type": "code",
   "execution_count": 238,
   "metadata": {
    "scrolled": true
   },
   "outputs": [
    {
     "data": {
      "text/plain": [
       "RandomForestClassifier(criterion='entropy', max_depth=4, max_leaf_nodes=64,\n",
       "                       n_estimators=500, n_jobs=-1)"
      ]
     },
     "execution_count": 238,
     "metadata": {},
     "output_type": "execute_result"
    }
   ],
   "source": [
    "# call and fit\n",
    "model_name.append('Random Forest')\n",
    "rf_clf = RandomForestClassifier(criterion='entropy', max_depth=4, max_leaf_nodes=64, n_estimators=500, n_jobs=-1)\n",
    "rf_clf.fit(X_train, y_train)\n",
    "\n",
    "# predict\n",
    "y_pred = rf_clf.predict(X_test)"
   ]
  },
  {
   "cell_type": "code",
   "execution_count": 239,
   "metadata": {},
   "outputs": [
    {
     "name": "stdout",
     "output_type": "stream",
     "text": [
      "              precision    recall  f1-score   support\n",
      "\n",
      "           0       0.85      0.86      0.86       184\n",
      "           1       0.77      0.75      0.76       111\n",
      "\n",
      "    accuracy                           0.82       295\n",
      "   macro avg       0.81      0.81      0.81       295\n",
      "weighted avg       0.82      0.82      0.82       295\n",
      "\n"
     ]
    }
   ],
   "source": [
    "# evaluate\n",
    "rf_report = classification_report(y_test, y_pred)\n",
    "print(rf_report)\n",
    "acc_scores.append(round(accuracy_score(y_test, y_pred), 4))"
   ]
  },
  {
   "cell_type": "code",
   "execution_count": 240,
   "metadata": {
    "scrolled": true
   },
   "outputs": [
    {
     "name": "stdout",
     "output_type": "stream",
     "text": [
      "Title : 0.28096822286191875\n",
      "Sex : 0.25577755409619257\n",
      "Age : 0.09183443509387361\n",
      "Class : 0.11294957059861278\n",
      "Embarked : 0.03097342206428071\n",
      "Connections : 0.07778940295467363\n",
      "Fare : 0.14970739233044775\n"
     ]
    }
   ],
   "source": [
    "# feature importance\n",
    "for name, score in zip(headers, rf_clf.feature_importances_):\n",
    "    print(name, ':', score)"
   ]
  },
  {
   "cell_type": "markdown",
   "metadata": {},
   "source": [
    "## 3.7. Soft Voting Classifier"
   ]
  },
  {
   "cell_type": "code",
   "execution_count": 241,
   "metadata": {},
   "outputs": [
    {
     "data": {
      "text/plain": [
       "VotingClassifier(estimators=[('lr', LogisticRegression(solver='newton-cg')),\n",
       "                             ('svm', SVC(probability=True)),\n",
       "                             ('knn',\n",
       "                              KNeighborsClassifier(metric='manhattan',\n",
       "                                                   n_neighbors=4)),\n",
       "                             ('rf',\n",
       "                              RandomForestClassifier(criterion='entropy',\n",
       "                                                     max_depth=4,\n",
       "                                                     max_leaf_nodes=64,\n",
       "                                                     n_estimators=500,\n",
       "                                                     n_jobs=-1))],\n",
       "                 voting='soft')"
      ]
     },
     "execution_count": 241,
     "metadata": {},
     "output_type": "execute_result"
    }
   ],
   "source": [
    "# call and fit\n",
    "model_name.append('Soft Voting Classifier')\n",
    "voting_clf = VotingClassifier(estimators=[('lr', log_reg), ('svm', sv_clf), ('knn', knn_clf), ('rf', rf_clf)], voting=\"soft\")\n",
    "voting_clf.fit(X_train, y_train)\n",
    "\n",
    "# predict\n",
    "y_pred = voting_clf.predict(X_test)"
   ]
  },
  {
   "cell_type": "code",
   "execution_count": 242,
   "metadata": {
    "scrolled": true
   },
   "outputs": [
    {
     "name": "stdout",
     "output_type": "stream",
     "text": [
      "              precision    recall  f1-score   support\n",
      "\n",
      "           0       0.84      0.89      0.86       184\n",
      "           1       0.79      0.73      0.76       111\n",
      "\n",
      "    accuracy                           0.83       295\n",
      "   macro avg       0.82      0.81      0.81       295\n",
      "weighted avg       0.83      0.83      0.83       295\n",
      "\n"
     ]
    }
   ],
   "source": [
    "# evaluate\n",
    "voting_report = classification_report(y_test, y_pred)\n",
    "print(voting_report)\n",
    "acc_scores.append(round(accuracy_score(y_test, y_pred), 4))"
   ]
  },
  {
   "cell_type": "code",
   "execution_count": 243,
   "metadata": {},
   "outputs": [],
   "source": [
    "# # dicts\n",
    "# cmap2 = ListedColormap([\"steelblue\", \"lightblue\"])\n",
    "# marker = [\"s\", \"s\"]\n",
    "# color = [\"steelblue\", \"goldenrod\"]\n",
    "\n",
    "# # contour\n",
    "# x_min, x_max = X_train[:, 0].min() - 1, X_train[:, 0].max() + 1\n",
    "# y_min, y_max = X_train[:, 1].min() - 1, X_train[:, 1].max() + 1\n",
    "# xx, yy = np.meshgrid(np.arange(x_min, x_max, 0.1),\n",
    "#                      np.arange(y_min, y_max, 0.1))\n",
    "\n",
    "# # dataset\n",
    "# dec_df = pd.DataFrame(data=np.column_stack([X_train, y_train]), columns=[\"X\", \"Y\", \"fate\"])\n",
    "\n",
    "# # plot\n",
    "# fig, ax = plt.subplots(figsize=(7, 6))\n",
    "# Z = voting_clf.predict(np.c_[xx.ravel(), yy.ravel()])\n",
    "# Z = Z.reshape(xx.shape)\n",
    "# ax.contourf(xx, yy, Z, alpha=0.4, cmap=cmap2)\n",
    "# for i in range(1):\n",
    "#     data = dec_df[dec_df['fate']==i]\n",
    "#     ax.scatter('X', 'Y', c=color[i], data=data, marker=marker[i], alpha=1,\n",
    "#                                   s=30, edgecolor=None)\n",
    "#     ax.set_title('Voting Classifier Decision Boundary', fontsize=18, pad=15)\n",
    "#     ax.set_xlabel('Age (standardized)')\n",
    "#     ax.set_ylabel('Fare (standardized)')\n",
    "# plt.show()"
   ]
  },
  {
   "cell_type": "markdown",
   "metadata": {},
   "source": [
    "## 3.8. Plot Best Model"
   ]
  },
  {
   "cell_type": "code",
   "execution_count": 244,
   "metadata": {},
   "outputs": [
    {
     "data": {
      "text/html": [
       "<div>\n",
       "<style scoped>\n",
       "    .dataframe tbody tr th:only-of-type {\n",
       "        vertical-align: middle;\n",
       "    }\n",
       "\n",
       "    .dataframe tbody tr th {\n",
       "        vertical-align: top;\n",
       "    }\n",
       "\n",
       "    .dataframe thead th {\n",
       "        text-align: right;\n",
       "    }\n",
       "</style>\n",
       "<table border=\"1\" class=\"dataframe\">\n",
       "  <thead>\n",
       "    <tr style=\"text-align: right;\">\n",
       "      <th></th>\n",
       "      <th>Algorithm</th>\n",
       "      <th>Accuracy</th>\n",
       "    </tr>\n",
       "  </thead>\n",
       "  <tbody>\n",
       "    <tr>\n",
       "      <th>0</th>\n",
       "      <td>K-nearest Neighbors</td>\n",
       "      <td>82.71</td>\n",
       "    </tr>\n",
       "    <tr>\n",
       "      <th>1</th>\n",
       "      <td>Soft Voting Classifier</td>\n",
       "      <td>82.71</td>\n",
       "    </tr>\n",
       "    <tr>\n",
       "      <th>2</th>\n",
       "      <td>Support Vector Classifier</td>\n",
       "      <td>82.37</td>\n",
       "    </tr>\n",
       "    <tr>\n",
       "      <th>3</th>\n",
       "      <td>Random Forest</td>\n",
       "      <td>82.03</td>\n",
       "    </tr>\n",
       "    <tr>\n",
       "      <th>4</th>\n",
       "      <td>Logistic Regression</td>\n",
       "      <td>78.64</td>\n",
       "    </tr>\n",
       "    <tr>\n",
       "      <th>5</th>\n",
       "      <td>Decision Tree</td>\n",
       "      <td>77.63</td>\n",
       "    </tr>\n",
       "  </tbody>\n",
       "</table>\n",
       "</div>"
      ],
      "text/plain": [
       "                   Algorithm  Accuracy\n",
       "0        K-nearest Neighbors     82.71\n",
       "1     Soft Voting Classifier     82.71\n",
       "2  Support Vector Classifier     82.37\n",
       "3              Random Forest     82.03\n",
       "4        Logistic Regression     78.64\n",
       "5              Decision Tree     77.63"
      ]
     },
     "execution_count": 244,
     "metadata": {},
     "output_type": "execute_result"
    }
   ],
   "source": [
    "acc_perc = [scores*100 for scores in acc_scores]\n",
    "model_select = pd.DataFrame(zip(model_name, acc_perc), columns=[\"Algorithm\", \"Accuracy\"]).sort_values(by=\"Accuracy\", \n",
    "                                                                                                      ascending=False)\n",
    "model_select.reset_index(drop=True, inplace=True)\n",
    "model_select"
   ]
  },
  {
   "cell_type": "code",
   "execution_count": 245,
   "metadata": {},
   "outputs": [
    {
     "data": {
      "text/plain": [
       "<matplotlib.axes._subplots.AxesSubplot at 0x288fb667308>"
      ]
     },
     "execution_count": 245,
     "metadata": {},
     "output_type": "execute_result"
    },
    {
     "data": {
      "text/plain": [
       "Text(0.5, 1.0, 'Model Selection')"
      ]
     },
     "execution_count": 245,
     "metadata": {},
     "output_type": "execute_result"
    },
    {
     "data": {
      "text/plain": [
       "Text(0.5, 0, 'Accuracy (%)')"
      ]
     },
     "execution_count": 245,
     "metadata": {},
     "output_type": "execute_result"
    },
    {
     "data": {
      "text/plain": [
       "Text(0, 0.5, '')"
      ]
     },
     "execution_count": 245,
     "metadata": {},
     "output_type": "execute_result"
    },
    {
     "data": {
      "text/plain": [
       "[<matplotlib.axis.XTick at 0x288f9a0f108>,\n",
       " <matplotlib.axis.XTick at 0x288f9a0f1c8>,\n",
       " <matplotlib.axis.XTick at 0x288fb6a7d48>,\n",
       " <matplotlib.axis.XTick at 0x288fb6e4cc8>,\n",
       " <matplotlib.axis.XTick at 0x288fb6e7448>,\n",
       " <matplotlib.axis.XTick at 0x288fb6e1348>,\n",
       " <matplotlib.axis.XTick at 0x288fb6e1bc8>,\n",
       " <matplotlib.axis.XTick at 0x288fb6d8bc8>,\n",
       " <matplotlib.axis.XTick at 0x288fb6e8308>,\n",
       " <matplotlib.axis.XTick at 0x288fb6e8b48>,\n",
       " <matplotlib.axis.XTick at 0x288fb6ec388>]"
      ]
     },
     "execution_count": 245,
     "metadata": {},
     "output_type": "execute_result"
    },
    {
     "data": {
      "text/plain": [
       "Text(82.71, 0, ' 82.71')"
      ]
     },
     "execution_count": 245,
     "metadata": {},
     "output_type": "execute_result"
    },
    {
     "data": {
      "text/plain": [
       "Text(82.71, 1, ' 82.71')"
      ]
     },
     "execution_count": 245,
     "metadata": {},
     "output_type": "execute_result"
    },
    {
     "data": {
      "text/plain": [
       "Text(82.37, 2, ' 82.37')"
      ]
     },
     "execution_count": 245,
     "metadata": {},
     "output_type": "execute_result"
    },
    {
     "data": {
      "text/plain": [
       "Text(82.03, 3, ' 82.03')"
      ]
     },
     "execution_count": 245,
     "metadata": {},
     "output_type": "execute_result"
    },
    {
     "data": {
      "text/plain": [
       "Text(78.64, 4, ' 78.64')"
      ]
     },
     "execution_count": 245,
     "metadata": {},
     "output_type": "execute_result"
    },
    {
     "data": {
      "text/plain": [
       "Text(77.63, 5, ' 77.63')"
      ]
     },
     "execution_count": 245,
     "metadata": {},
     "output_type": "execute_result"
    },
    {
     "data": {
      "image/png": "[encoded data removed]",
      "text/plain": [
       "<Figure size 504x432 with 1 Axes>"
      ]
     },
     "metadata": {},
     "output_type": "display_data"
    }
   ],
   "source": [
    "fig, ax = plt.subplots(figsize=(7, 6))\n",
    "sns.barplot(x='Accuracy', y='Algorithm', data=model_select, palette='Blues_r')\n",
    "ax.set_title('Model Selection', fontsize=18)\n",
    "ax.set_xlabel('Accuracy (%)')\n",
    "ax.set_ylabel('')\n",
    "ax.set_xticks(np.arange(0, 110, 10))\n",
    "for index, row in model_select.iterrows():\n",
    "    ax.text(row.Accuracy, row.name, ' {}'.format(row.Accuracy), color=\"black\", va=\"center\", ha=\"left\", fontsize=13)"
   ]
  },
  {
   "cell_type": "code",
   "execution_count": 246,
   "metadata": {},
   "outputs": [],
   "source": [
    "# top model predictions\n",
    "y_top_mod = voting_clf.predict(X_test)"
   ]
  },
  {
   "cell_type": "code",
   "execution_count": 247,
   "metadata": {},
   "outputs": [],
   "source": [
    "# plot function\n",
    "def plt_cm(y_known, y_pred, title=None, cmap=plt.cm.Blues):\n",
    "    cm = confusion_matrix(y_known, y_pred)\n",
    "    cm_norm = cm.astype('float')/cm.sum(axis=1)[:, np.newaxis]\n",
    "    fig, ax = plt.subplots(figsize=(7, 6))\n",
    "    ax.imshow(cm_norm, interpolation=\"nearest\", cmap=cmap)\n",
    "    ax.set_xlabel('Predicted Fate')\n",
    "    ax.set_ylabel('Known Fate')\n",
    "    ax.set_xticks(np.arange(cm_norm.shape[1]))\n",
    "    ax.set_yticks(np.arange(cm_norm.shape[0]))\n",
    "    ax.set_title(title, fontsize=18, pad=15)\n",
    "    txt_format = '.2f'\n",
    "    threshold = cm_norm.max() / 2.\n",
    "    for i in range(cm_norm.shape[0]):\n",
    "        for j in range(cm_norm.shape[1]):\n",
    "            ax.text(j, i, format(cm_norm[i, j], txt_format),\n",
    "                    ha=\"center\", va=\"center\", fontsize=13,\n",
    "                    color=\"white\" if cm_norm[i, j] > threshold else \"black\")\n",
    "    return ax"
   ]
  },
  {
   "cell_type": "code",
   "execution_count": 248,
   "metadata": {},
   "outputs": [
    {
     "data": {
      "text/plain": [
       "<matplotlib.axes._subplots.AxesSubplot at 0x288fb705888>"
      ]
     },
     "execution_count": 248,
     "metadata": {},
     "output_type": "execute_result"
    },
    {
     "data": {
      "image/png": "[encoded data removed]",
      "text/plain": [
       "<Figure size 504x432 with 1 Axes>"
      ]
     },
     "metadata": {},
     "output_type": "display_data"
    }
   ],
   "source": [
    "# plot top model\n",
    "plt_cm(y_test, y_top_mod, title='Voting Classifier Confusion Matrix')"
   ]
  },
  {
   "cell_type": "code",
   "execution_count": 249,
   "metadata": {},
   "outputs": [],
   "source": [
    "# final predictions\n",
    "final_pred = voting_clf.predict(test_df)"
   ]
  },
  {
   "cell_type": "code",
   "execution_count": 264,
   "metadata": {},
   "outputs": [
    {
     "data": {
      "text/plain": [
       "0    0.631579\n",
       "1    0.368421\n",
       "Name: Survived, dtype: float64"
      ]
     },
     "execution_count": 264,
     "metadata": {},
     "output_type": "execute_result"
    }
   ],
   "source": [
    "# submission\n",
    "submission = pd.DataFrame({\"PassengerId\":test_ID, \n",
    "                           \"Survived\":final_pred})\n",
    "submission['Survived'].value_counts()/len(submission)"
   ]
  }
 ],
 "metadata": {
  "kernelspec": {
   "display_name": "Python 3",
   "language": "python",
   "name": "python3"
  },
  "language_info": {
   "codemirror_mode": {
    "name": "ipython",
    "version": 3
   },
   "file_extension": ".py",
   "mimetype": "text/x-python",
   "name": "python",
   "nbconvert_exporter": "python",
   "pygments_lexer": "ipython3",
   "version": "3.7.7"
  }
 },
 "nbformat": 4,
 "nbformat_minor": 4
}
